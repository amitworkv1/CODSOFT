{
  "nbformat": 4,
  "nbformat_minor": 0,
  "metadata": {
    "colab": {
      "provenance": []
    },
    "kernelspec": {
      "name": "python3",
      "display_name": "Python 3"
    },
    "language_info": {
      "name": "python"
    }
  },
  "cells": [
    {
      "cell_type": "markdown",
      "source": [
        "# Objectives:\n",
        "\n",
        "### Sales prediction involves forecasting the amount of a product that customers will purchase, taking into account various factors such as advertising expenditure, target audience segmentation, and advertising platform selection.\n",
        "### In businesses that offer products or services, the role of a Data Scientist is crucial for predicting future sales. They utilize machine learning techniques in Python to analyze and interpret data, allowing them to make informed decisions regarding advertising costs. By leveraging these predictions, businesses can optimize their advertising strategies and maximize sales potential. Let's embark on the journey of sales prediction using machine learning in Python."
      ],
      "metadata": {
        "id": "V1AtTZgvsv_D"
      }
    },
    {
      "cell_type": "markdown",
      "source": [
        "# Downloading the dataset"
      ],
      "metadata": {
        "id": "7EALvlRTtLpD"
      }
    },
    {
      "cell_type": "code",
      "execution_count": null,
      "metadata": {
        "colab": {
          "base_uri": "https://localhost:8080/"
        },
        "id": "PSalt2mqsYyL",
        "outputId": "46f1c9f4-4a72-4f64-b7b9-c1bec4a89f48"
      },
      "outputs": [
        {
          "output_type": "stream",
          "name": "stdout",
          "text": [
            "Requirement already satisfied: kaggle in /usr/local/lib/python3.10/dist-packages (1.5.16)\n",
            "Requirement already satisfied: six>=1.10 in /usr/local/lib/python3.10/dist-packages (from kaggle) (1.16.0)\n",
            "Requirement already satisfied: certifi in /usr/local/lib/python3.10/dist-packages (from kaggle) (2023.7.22)\n",
            "Requirement already satisfied: python-dateutil in /usr/local/lib/python3.10/dist-packages (from kaggle) (2.8.2)\n",
            "Requirement already satisfied: requests in /usr/local/lib/python3.10/dist-packages (from kaggle) (2.31.0)\n",
            "Requirement already satisfied: tqdm in /usr/local/lib/python3.10/dist-packages (from kaggle) (4.66.1)\n",
            "Requirement already satisfied: python-slugify in /usr/local/lib/python3.10/dist-packages (from kaggle) (8.0.1)\n",
            "Requirement already satisfied: urllib3 in /usr/local/lib/python3.10/dist-packages (from kaggle) (2.0.6)\n",
            "Requirement already satisfied: bleach in /usr/local/lib/python3.10/dist-packages (from kaggle) (6.0.0)\n",
            "Requirement already satisfied: webencodings in /usr/local/lib/python3.10/dist-packages (from bleach->kaggle) (0.5.1)\n",
            "Requirement already satisfied: text-unidecode>=1.3 in /usr/local/lib/python3.10/dist-packages (from python-slugify->kaggle) (1.3)\n",
            "Requirement already satisfied: charset-normalizer<4,>=2 in /usr/local/lib/python3.10/dist-packages (from requests->kaggle) (3.3.0)\n",
            "Requirement already satisfied: idna<4,>=2.5 in /usr/local/lib/python3.10/dist-packages (from requests->kaggle) (3.4)\n"
          ]
        }
      ],
      "source": [
        "%pip install kaggle"
      ]
    },
    {
      "cell_type": "code",
      "source": [
        "!mkdir ~/.kaggle"
      ],
      "metadata": {
        "id": "KOGRmiUmtNdM"
      },
      "execution_count": null,
      "outputs": []
    },
    {
      "cell_type": "code",
      "source": [
        "! kaggle datasets download yashpaloswal/ann-car-sales-price-prediction"
      ],
      "metadata": {
        "colab": {
          "base_uri": "https://localhost:8080/"
        },
        "id": "TzJayiXhtOoL",
        "outputId": "08ec3345-2ce4-41ad-9923-d8a5ed297a71"
      },
      "execution_count": null,
      "outputs": [
        {
          "output_type": "stream",
          "name": "stdout",
          "text": [
            "Warning: Your Kaggle API key is readable by other users on this system! To fix this, you can run 'chmod 600 /root/.kaggle/kaggle.json'\n",
            "Downloading ann-car-sales-price-prediction.zip to /content\n",
            "  0% 0.00/29.0k [00:00<?, ?B/s]\n",
            "100% 29.0k/29.0k [00:00<00:00, 44.3MB/s]\n"
          ]
        }
      ]
    },
    {
      "cell_type": "code",
      "source": [
        "!unzip /content/ann-car-sales-price-prediction.zip -d /content/"
      ],
      "metadata": {
        "colab": {
          "base_uri": "https://localhost:8080/"
        },
        "id": "_8HxsaO3tPpE",
        "outputId": "8a8745d6-3e65-4bcf-e984-ff096d83c903"
      },
      "execution_count": null,
      "outputs": [
        {
          "output_type": "stream",
          "name": "stdout",
          "text": [
            "Archive:  /content/ann-car-sales-price-prediction.zip\n",
            "  inflating: /content/car_purchasing.csv  \n"
          ]
        }
      ]
    },
    {
      "cell_type": "markdown",
      "source": [
        "# Importing Libraries"
      ],
      "metadata": {
        "id": "lgLEFlMvtmJz"
      }
    },
    {
      "cell_type": "code",
      "source": [
        "import numpy as np\n",
        "import pandas as pd\n",
        "import matplotlib.pyplot as plt\n",
        "import seaborn as sns\n",
        "import plotly.express as px\n",
        "from sklearn.preprocessing import MinMaxScaler\n",
        "\n",
        "import tensorflow as tf\n",
        "from keras.layers import Dense\n",
        "from keras.models import Sequential\n",
        "from sklearn.model_selection import train_test_split\n",
        "from sklearn.metrics import mean_absolute_error\n",
        "\n",
        "import warnings\n",
        "warnings.filterwarnings(\"ignore\")"
      ],
      "metadata": {
        "id": "JaCnDwc1tjtz"
      },
      "execution_count": null,
      "outputs": []
    },
    {
      "cell_type": "markdown",
      "source": [
        "# Reading & Understanding the data"
      ],
      "metadata": {
        "id": "7CkN1wWftoCb"
      }
    },
    {
      "cell_type": "code",
      "source": [
        "data = pd.read_csv('/content/car_purchasing.csv',encoding='ISO-8859-1')"
      ],
      "metadata": {
        "id": "o3RBvliGtoc7"
      },
      "execution_count": null,
      "outputs": []
    },
    {
      "cell_type": "code",
      "source": [
        "data.head()"
      ],
      "metadata": {
        "colab": {
          "base_uri": "https://localhost:8080/",
          "height": 206
        },
        "id": "y6jhsFzytptz",
        "outputId": "2d9fd97a-541c-4110-fa57-ae94b64d0122"
      },
      "execution_count": null,
      "outputs": [
        {
          "output_type": "execute_result",
          "data": {
            "text/plain": [
              "     customer name                                    customer e-mail  \\\n",
              "0    Martina Avila  cubilia.Curae.Phasellus@quisaccumsanconvallis.edu   \n",
              "1    Harlan Barnes                                eu.dolor@diam.co.uk   \n",
              "2  Naomi Rodriquez  vulputate.mauris.sagittis@ametconsectetueradip...   \n",
              "3  Jade Cunningham                            malesuada@dignissim.com   \n",
              "4     Cedric Leach     felis.ullamcorper.viverra@egetmollislectus.net   \n",
              "\n",
              "        country  gender        age  annual Salary  credit card debt  \\\n",
              "0      Bulgaria       0  41.851720    62812.09301      11609.380910   \n",
              "1        Belize       0  40.870623    66646.89292       9572.957136   \n",
              "2       Algeria       1  43.152897    53798.55112      11160.355060   \n",
              "3  Cook Islands       1  58.271369    79370.03798      14426.164850   \n",
              "4        Brazil       1  57.313749    59729.15130       5358.712177   \n",
              "\n",
              "     net worth  car purchase amount  \n",
              "0  238961.2505          35321.45877  \n",
              "1  530973.9078          45115.52566  \n",
              "2  638467.1773          42925.70921  \n",
              "3  548599.0524          67422.36313  \n",
              "4  560304.0671          55915.46248  "
            ],
            "text/html": [
              "\n",
              "  <div id=\"df-d133d19b-e367-43e5-8879-385dd1ef104d\" class=\"colab-df-container\">\n",
              "    <div>\n",
              "<style scoped>\n",
              "    .dataframe tbody tr th:only-of-type {\n",
              "        vertical-align: middle;\n",
              "    }\n",
              "\n",
              "    .dataframe tbody tr th {\n",
              "        vertical-align: top;\n",
              "    }\n",
              "\n",
              "    .dataframe thead th {\n",
              "        text-align: right;\n",
              "    }\n",
              "</style>\n",
              "<table border=\"1\" class=\"dataframe\">\n",
              "  <thead>\n",
              "    <tr style=\"text-align: right;\">\n",
              "      <th></th>\n",
              "      <th>customer name</th>\n",
              "      <th>customer e-mail</th>\n",
              "      <th>country</th>\n",
              "      <th>gender</th>\n",
              "      <th>age</th>\n",
              "      <th>annual Salary</th>\n",
              "      <th>credit card debt</th>\n",
              "      <th>net worth</th>\n",
              "      <th>car purchase amount</th>\n",
              "    </tr>\n",
              "  </thead>\n",
              "  <tbody>\n",
              "    <tr>\n",
              "      <th>0</th>\n",
              "      <td>Martina Avila</td>\n",
              "      <td>cubilia.Curae.Phasellus@quisaccumsanconvallis.edu</td>\n",
              "      <td>Bulgaria</td>\n",
              "      <td>0</td>\n",
              "      <td>41.851720</td>\n",
              "      <td>62812.09301</td>\n",
              "      <td>11609.380910</td>\n",
              "      <td>238961.2505</td>\n",
              "      <td>35321.45877</td>\n",
              "    </tr>\n",
              "    <tr>\n",
              "      <th>1</th>\n",
              "      <td>Harlan Barnes</td>\n",
              "      <td>eu.dolor@diam.co.uk</td>\n",
              "      <td>Belize</td>\n",
              "      <td>0</td>\n",
              "      <td>40.870623</td>\n",
              "      <td>66646.89292</td>\n",
              "      <td>9572.957136</td>\n",
              "      <td>530973.9078</td>\n",
              "      <td>45115.52566</td>\n",
              "    </tr>\n",
              "    <tr>\n",
              "      <th>2</th>\n",
              "      <td>Naomi Rodriquez</td>\n",
              "      <td>vulputate.mauris.sagittis@ametconsectetueradip...</td>\n",
              "      <td>Algeria</td>\n",
              "      <td>1</td>\n",
              "      <td>43.152897</td>\n",
              "      <td>53798.55112</td>\n",
              "      <td>11160.355060</td>\n",
              "      <td>638467.1773</td>\n",
              "      <td>42925.70921</td>\n",
              "    </tr>\n",
              "    <tr>\n",
              "      <th>3</th>\n",
              "      <td>Jade Cunningham</td>\n",
              "      <td>malesuada@dignissim.com</td>\n",
              "      <td>Cook Islands</td>\n",
              "      <td>1</td>\n",
              "      <td>58.271369</td>\n",
              "      <td>79370.03798</td>\n",
              "      <td>14426.164850</td>\n",
              "      <td>548599.0524</td>\n",
              "      <td>67422.36313</td>\n",
              "    </tr>\n",
              "    <tr>\n",
              "      <th>4</th>\n",
              "      <td>Cedric Leach</td>\n",
              "      <td>felis.ullamcorper.viverra@egetmollislectus.net</td>\n",
              "      <td>Brazil</td>\n",
              "      <td>1</td>\n",
              "      <td>57.313749</td>\n",
              "      <td>59729.15130</td>\n",
              "      <td>5358.712177</td>\n",
              "      <td>560304.0671</td>\n",
              "      <td>55915.46248</td>\n",
              "    </tr>\n",
              "  </tbody>\n",
              "</table>\n",
              "</div>\n",
              "    <div class=\"colab-df-buttons\">\n",
              "\n",
              "  <div class=\"colab-df-container\">\n",
              "    <button class=\"colab-df-convert\" onclick=\"convertToInteractive('df-d133d19b-e367-43e5-8879-385dd1ef104d')\"\n",
              "            title=\"Convert this dataframe to an interactive table.\"\n",
              "            style=\"display:none;\">\n",
              "\n",
              "  <svg xmlns=\"http://www.w3.org/2000/svg\" height=\"24px\" viewBox=\"0 -960 960 960\">\n",
              "    <path d=\"M120-120v-720h720v720H120Zm60-500h600v-160H180v160Zm220 220h160v-160H400v160Zm0 220h160v-160H400v160ZM180-400h160v-160H180v160Zm440 0h160v-160H620v160ZM180-180h160v-160H180v160Zm440 0h160v-160H620v160Z\"/>\n",
              "  </svg>\n",
              "    </button>\n",
              "\n",
              "  <style>\n",
              "    .colab-df-container {\n",
              "      display:flex;\n",
              "      gap: 12px;\n",
              "    }\n",
              "\n",
              "    .colab-df-convert {\n",
              "      background-color: #E8F0FE;\n",
              "      border: none;\n",
              "      border-radius: 50%;\n",
              "      cursor: pointer;\n",
              "      display: none;\n",
              "      fill: #1967D2;\n",
              "      height: 32px;\n",
              "      padding: 0 0 0 0;\n",
              "      width: 32px;\n",
              "    }\n",
              "\n",
              "    .colab-df-convert:hover {\n",
              "      background-color: #E2EBFA;\n",
              "      box-shadow: 0px 1px 2px rgba(60, 64, 67, 0.3), 0px 1px 3px 1px rgba(60, 64, 67, 0.15);\n",
              "      fill: #174EA6;\n",
              "    }\n",
              "\n",
              "    .colab-df-buttons div {\n",
              "      margin-bottom: 4px;\n",
              "    }\n",
              "\n",
              "    [theme=dark] .colab-df-convert {\n",
              "      background-color: #3B4455;\n",
              "      fill: #D2E3FC;\n",
              "    }\n",
              "\n",
              "    [theme=dark] .colab-df-convert:hover {\n",
              "      background-color: #434B5C;\n",
              "      box-shadow: 0px 1px 3px 1px rgba(0, 0, 0, 0.15);\n",
              "      filter: drop-shadow(0px 1px 2px rgba(0, 0, 0, 0.3));\n",
              "      fill: #FFFFFF;\n",
              "    }\n",
              "  </style>\n",
              "\n",
              "    <script>\n",
              "      const buttonEl =\n",
              "        document.querySelector('#df-d133d19b-e367-43e5-8879-385dd1ef104d button.colab-df-convert');\n",
              "      buttonEl.style.display =\n",
              "        google.colab.kernel.accessAllowed ? 'block' : 'none';\n",
              "\n",
              "      async function convertToInteractive(key) {\n",
              "        const element = document.querySelector('#df-d133d19b-e367-43e5-8879-385dd1ef104d');\n",
              "        const dataTable =\n",
              "          await google.colab.kernel.invokeFunction('convertToInteractive',\n",
              "                                                    [key], {});\n",
              "        if (!dataTable) return;\n",
              "\n",
              "        const docLinkHtml = 'Like what you see? Visit the ' +\n",
              "          '<a target=\"_blank\" href=https://colab.research.google.com/notebooks/data_table.ipynb>data table notebook</a>'\n",
              "          + ' to learn more about interactive tables.';\n",
              "        element.innerHTML = '';\n",
              "        dataTable['output_type'] = 'display_data';\n",
              "        await google.colab.output.renderOutput(dataTable, element);\n",
              "        const docLink = document.createElement('div');\n",
              "        docLink.innerHTML = docLinkHtml;\n",
              "        element.appendChild(docLink);\n",
              "      }\n",
              "    </script>\n",
              "  </div>\n",
              "\n",
              "\n",
              "<div id=\"df-3004e61a-0730-43ac-9d2f-e09c9276f678\">\n",
              "  <button class=\"colab-df-quickchart\" onclick=\"quickchart('df-3004e61a-0730-43ac-9d2f-e09c9276f678')\"\n",
              "            title=\"Suggest charts.\"\n",
              "            style=\"display:none;\">\n",
              "\n",
              "<svg xmlns=\"http://www.w3.org/2000/svg\" height=\"24px\"viewBox=\"0 0 24 24\"\n",
              "     width=\"24px\">\n",
              "    <g>\n",
              "        <path d=\"M19 3H5c-1.1 0-2 .9-2 2v14c0 1.1.9 2 2 2h14c1.1 0 2-.9 2-2V5c0-1.1-.9-2-2-2zM9 17H7v-7h2v7zm4 0h-2V7h2v10zm4 0h-2v-4h2v4z\"/>\n",
              "    </g>\n",
              "</svg>\n",
              "  </button>\n",
              "\n",
              "<style>\n",
              "  .colab-df-quickchart {\n",
              "      --bg-color: #E8F0FE;\n",
              "      --fill-color: #1967D2;\n",
              "      --hover-bg-color: #E2EBFA;\n",
              "      --hover-fill-color: #174EA6;\n",
              "      --disabled-fill-color: #AAA;\n",
              "      --disabled-bg-color: #DDD;\n",
              "  }\n",
              "\n",
              "  [theme=dark] .colab-df-quickchart {\n",
              "      --bg-color: #3B4455;\n",
              "      --fill-color: #D2E3FC;\n",
              "      --hover-bg-color: #434B5C;\n",
              "      --hover-fill-color: #FFFFFF;\n",
              "      --disabled-bg-color: #3B4455;\n",
              "      --disabled-fill-color: #666;\n",
              "  }\n",
              "\n",
              "  .colab-df-quickchart {\n",
              "    background-color: var(--bg-color);\n",
              "    border: none;\n",
              "    border-radius: 50%;\n",
              "    cursor: pointer;\n",
              "    display: none;\n",
              "    fill: var(--fill-color);\n",
              "    height: 32px;\n",
              "    padding: 0;\n",
              "    width: 32px;\n",
              "  }\n",
              "\n",
              "  .colab-df-quickchart:hover {\n",
              "    background-color: var(--hover-bg-color);\n",
              "    box-shadow: 0 1px 2px rgba(60, 64, 67, 0.3), 0 1px 3px 1px rgba(60, 64, 67, 0.15);\n",
              "    fill: var(--button-hover-fill-color);\n",
              "  }\n",
              "\n",
              "  .colab-df-quickchart-complete:disabled,\n",
              "  .colab-df-quickchart-complete:disabled:hover {\n",
              "    background-color: var(--disabled-bg-color);\n",
              "    fill: var(--disabled-fill-color);\n",
              "    box-shadow: none;\n",
              "  }\n",
              "\n",
              "  .colab-df-spinner {\n",
              "    border: 2px solid var(--fill-color);\n",
              "    border-color: transparent;\n",
              "    border-bottom-color: var(--fill-color);\n",
              "    animation:\n",
              "      spin 1s steps(1) infinite;\n",
              "  }\n",
              "\n",
              "  @keyframes spin {\n",
              "    0% {\n",
              "      border-color: transparent;\n",
              "      border-bottom-color: var(--fill-color);\n",
              "      border-left-color: var(--fill-color);\n",
              "    }\n",
              "    20% {\n",
              "      border-color: transparent;\n",
              "      border-left-color: var(--fill-color);\n",
              "      border-top-color: var(--fill-color);\n",
              "    }\n",
              "    30% {\n",
              "      border-color: transparent;\n",
              "      border-left-color: var(--fill-color);\n",
              "      border-top-color: var(--fill-color);\n",
              "      border-right-color: var(--fill-color);\n",
              "    }\n",
              "    40% {\n",
              "      border-color: transparent;\n",
              "      border-right-color: var(--fill-color);\n",
              "      border-top-color: var(--fill-color);\n",
              "    }\n",
              "    60% {\n",
              "      border-color: transparent;\n",
              "      border-right-color: var(--fill-color);\n",
              "    }\n",
              "    80% {\n",
              "      border-color: transparent;\n",
              "      border-right-color: var(--fill-color);\n",
              "      border-bottom-color: var(--fill-color);\n",
              "    }\n",
              "    90% {\n",
              "      border-color: transparent;\n",
              "      border-bottom-color: var(--fill-color);\n",
              "    }\n",
              "  }\n",
              "</style>\n",
              "\n",
              "  <script>\n",
              "    async function quickchart(key) {\n",
              "      const quickchartButtonEl =\n",
              "        document.querySelector('#' + key + ' button');\n",
              "      quickchartButtonEl.disabled = true;  // To prevent multiple clicks.\n",
              "      quickchartButtonEl.classList.add('colab-df-spinner');\n",
              "      try {\n",
              "        const charts = await google.colab.kernel.invokeFunction(\n",
              "            'suggestCharts', [key], {});\n",
              "      } catch (error) {\n",
              "        console.error('Error during call to suggestCharts:', error);\n",
              "      }\n",
              "      quickchartButtonEl.classList.remove('colab-df-spinner');\n",
              "      quickchartButtonEl.classList.add('colab-df-quickchart-complete');\n",
              "    }\n",
              "    (() => {\n",
              "      let quickchartButtonEl =\n",
              "        document.querySelector('#df-3004e61a-0730-43ac-9d2f-e09c9276f678 button');\n",
              "      quickchartButtonEl.style.display =\n",
              "        google.colab.kernel.accessAllowed ? 'block' : 'none';\n",
              "    })();\n",
              "  </script>\n",
              "</div>\n",
              "    </div>\n",
              "  </div>\n"
            ]
          },
          "metadata": {},
          "execution_count": 11
        }
      ]
    },
    {
      "cell_type": "code",
      "source": [
        "data.info()"
      ],
      "metadata": {
        "colab": {
          "base_uri": "https://localhost:8080/"
        },
        "id": "6pzxirAwtrl0",
        "outputId": "e7be50d3-a86a-491a-e65c-c9a859a12d1e"
      },
      "execution_count": null,
      "outputs": [
        {
          "output_type": "stream",
          "name": "stdout",
          "text": [
            "<class 'pandas.core.frame.DataFrame'>\n",
            "RangeIndex: 500 entries, 0 to 499\n",
            "Data columns (total 9 columns):\n",
            " #   Column               Non-Null Count  Dtype  \n",
            "---  ------               --------------  -----  \n",
            " 0   customer name        500 non-null    object \n",
            " 1   customer e-mail      500 non-null    object \n",
            " 2   country              500 non-null    object \n",
            " 3   gender               500 non-null    int64  \n",
            " 4   age                  500 non-null    float64\n",
            " 5   annual Salary        500 non-null    float64\n",
            " 6   credit card debt     500 non-null    float64\n",
            " 7   net worth            500 non-null    float64\n",
            " 8   car purchase amount  500 non-null    float64\n",
            "dtypes: float64(5), int64(1), object(3)\n",
            "memory usage: 35.3+ KB\n"
          ]
        }
      ]
    },
    {
      "cell_type": "markdown",
      "source": [
        "# Checking for missing data"
      ],
      "metadata": {
        "id": "sMsRuR8BtudT"
      }
    },
    {
      "cell_type": "code",
      "source": [
        "data.isnull().sum()"
      ],
      "metadata": {
        "colab": {
          "base_uri": "https://localhost:8080/"
        },
        "id": "ktC6a1GJtslc",
        "outputId": "b430290a-aa0b-4193-e15d-44c5cc84ec7b"
      },
      "execution_count": null,
      "outputs": [
        {
          "output_type": "execute_result",
          "data": {
            "text/plain": [
              "customer name          0\n",
              "customer e-mail        0\n",
              "country                0\n",
              "gender                 0\n",
              "age                    0\n",
              "annual Salary          0\n",
              "credit card debt       0\n",
              "net worth              0\n",
              "car purchase amount    0\n",
              "dtype: int64"
            ]
          },
          "metadata": {},
          "execution_count": 13
        }
      ]
    },
    {
      "cell_type": "markdown",
      "source": [
        "# Data Preprocessing"
      ],
      "metadata": {
        "id": "qH0xDRATuMJl"
      }
    },
    {
      "cell_type": "code",
      "source": [
        "data.drop(columns= ['customer name' , 'customer e-mail' ,'country'] , axis = 1 , inplace = True)"
      ],
      "metadata": {
        "id": "ki59gOe3uHUj"
      },
      "execution_count": null,
      "outputs": []
    },
    {
      "cell_type": "markdown",
      "source": [
        "### In the dataset, 'customer name', 'customer e-mail', and 'country'  are not likely to provide any significant information for analysis or modeling because they have a limited ability to discriminate between data points.\n",
        "### By dropping these columns, I can simplify the dataset and reduce its dimensionality, which may improve the performance of machine learning models and reduce computational overhead.\n"
      ],
      "metadata": {
        "id": "400IY_c_xOpk"
      }
    },
    {
      "cell_type": "code",
      "source": [
        "data.head()"
      ],
      "metadata": {
        "colab": {
          "base_uri": "https://localhost:8080/",
          "height": 206
        },
        "id": "HebxP4xgxOK0",
        "outputId": "e368089e-2b0f-4903-dea2-199993294621"
      },
      "execution_count": null,
      "outputs": [
        {
          "output_type": "execute_result",
          "data": {
            "text/plain": [
              "   gender        age  annual Salary  credit card debt    net worth  \\\n",
              "0       0  41.851720    62812.09301      11609.380910  238961.2505   \n",
              "1       0  40.870623    66646.89292       9572.957136  530973.9078   \n",
              "2       1  43.152897    53798.55112      11160.355060  638467.1773   \n",
              "3       1  58.271369    79370.03798      14426.164850  548599.0524   \n",
              "4       1  57.313749    59729.15130       5358.712177  560304.0671   \n",
              "\n",
              "   car purchase amount  \n",
              "0          35321.45877  \n",
              "1          45115.52566  \n",
              "2          42925.70921  \n",
              "3          67422.36313  \n",
              "4          55915.46248  "
            ],
            "text/html": [
              "\n",
              "  <div id=\"df-5242c55c-7579-45e9-8fd3-cdca00a763f5\" class=\"colab-df-container\">\n",
              "    <div>\n",
              "<style scoped>\n",
              "    .dataframe tbody tr th:only-of-type {\n",
              "        vertical-align: middle;\n",
              "    }\n",
              "\n",
              "    .dataframe tbody tr th {\n",
              "        vertical-align: top;\n",
              "    }\n",
              "\n",
              "    .dataframe thead th {\n",
              "        text-align: right;\n",
              "    }\n",
              "</style>\n",
              "<table border=\"1\" class=\"dataframe\">\n",
              "  <thead>\n",
              "    <tr style=\"text-align: right;\">\n",
              "      <th></th>\n",
              "      <th>gender</th>\n",
              "      <th>age</th>\n",
              "      <th>annual Salary</th>\n",
              "      <th>credit card debt</th>\n",
              "      <th>net worth</th>\n",
              "      <th>car purchase amount</th>\n",
              "    </tr>\n",
              "  </thead>\n",
              "  <tbody>\n",
              "    <tr>\n",
              "      <th>0</th>\n",
              "      <td>0</td>\n",
              "      <td>41.851720</td>\n",
              "      <td>62812.09301</td>\n",
              "      <td>11609.380910</td>\n",
              "      <td>238961.2505</td>\n",
              "      <td>35321.45877</td>\n",
              "    </tr>\n",
              "    <tr>\n",
              "      <th>1</th>\n",
              "      <td>0</td>\n",
              "      <td>40.870623</td>\n",
              "      <td>66646.89292</td>\n",
              "      <td>9572.957136</td>\n",
              "      <td>530973.9078</td>\n",
              "      <td>45115.52566</td>\n",
              "    </tr>\n",
              "    <tr>\n",
              "      <th>2</th>\n",
              "      <td>1</td>\n",
              "      <td>43.152897</td>\n",
              "      <td>53798.55112</td>\n",
              "      <td>11160.355060</td>\n",
              "      <td>638467.1773</td>\n",
              "      <td>42925.70921</td>\n",
              "    </tr>\n",
              "    <tr>\n",
              "      <th>3</th>\n",
              "      <td>1</td>\n",
              "      <td>58.271369</td>\n",
              "      <td>79370.03798</td>\n",
              "      <td>14426.164850</td>\n",
              "      <td>548599.0524</td>\n",
              "      <td>67422.36313</td>\n",
              "    </tr>\n",
              "    <tr>\n",
              "      <th>4</th>\n",
              "      <td>1</td>\n",
              "      <td>57.313749</td>\n",
              "      <td>59729.15130</td>\n",
              "      <td>5358.712177</td>\n",
              "      <td>560304.0671</td>\n",
              "      <td>55915.46248</td>\n",
              "    </tr>\n",
              "  </tbody>\n",
              "</table>\n",
              "</div>\n",
              "    <div class=\"colab-df-buttons\">\n",
              "\n",
              "  <div class=\"colab-df-container\">\n",
              "    <button class=\"colab-df-convert\" onclick=\"convertToInteractive('df-5242c55c-7579-45e9-8fd3-cdca00a763f5')\"\n",
              "            title=\"Convert this dataframe to an interactive table.\"\n",
              "            style=\"display:none;\">\n",
              "\n",
              "  <svg xmlns=\"http://www.w3.org/2000/svg\" height=\"24px\" viewBox=\"0 -960 960 960\">\n",
              "    <path d=\"M120-120v-720h720v720H120Zm60-500h600v-160H180v160Zm220 220h160v-160H400v160Zm0 220h160v-160H400v160ZM180-400h160v-160H180v160Zm440 0h160v-160H620v160ZM180-180h160v-160H180v160Zm440 0h160v-160H620v160Z\"/>\n",
              "  </svg>\n",
              "    </button>\n",
              "\n",
              "  <style>\n",
              "    .colab-df-container {\n",
              "      display:flex;\n",
              "      gap: 12px;\n",
              "    }\n",
              "\n",
              "    .colab-df-convert {\n",
              "      background-color: #E8F0FE;\n",
              "      border: none;\n",
              "      border-radius: 50%;\n",
              "      cursor: pointer;\n",
              "      display: none;\n",
              "      fill: #1967D2;\n",
              "      height: 32px;\n",
              "      padding: 0 0 0 0;\n",
              "      width: 32px;\n",
              "    }\n",
              "\n",
              "    .colab-df-convert:hover {\n",
              "      background-color: #E2EBFA;\n",
              "      box-shadow: 0px 1px 2px rgba(60, 64, 67, 0.3), 0px 1px 3px 1px rgba(60, 64, 67, 0.15);\n",
              "      fill: #174EA6;\n",
              "    }\n",
              "\n",
              "    .colab-df-buttons div {\n",
              "      margin-bottom: 4px;\n",
              "    }\n",
              "\n",
              "    [theme=dark] .colab-df-convert {\n",
              "      background-color: #3B4455;\n",
              "      fill: #D2E3FC;\n",
              "    }\n",
              "\n",
              "    [theme=dark] .colab-df-convert:hover {\n",
              "      background-color: #434B5C;\n",
              "      box-shadow: 0px 1px 3px 1px rgba(0, 0, 0, 0.15);\n",
              "      filter: drop-shadow(0px 1px 2px rgba(0, 0, 0, 0.3));\n",
              "      fill: #FFFFFF;\n",
              "    }\n",
              "  </style>\n",
              "\n",
              "    <script>\n",
              "      const buttonEl =\n",
              "        document.querySelector('#df-5242c55c-7579-45e9-8fd3-cdca00a763f5 button.colab-df-convert');\n",
              "      buttonEl.style.display =\n",
              "        google.colab.kernel.accessAllowed ? 'block' : 'none';\n",
              "\n",
              "      async function convertToInteractive(key) {\n",
              "        const element = document.querySelector('#df-5242c55c-7579-45e9-8fd3-cdca00a763f5');\n",
              "        const dataTable =\n",
              "          await google.colab.kernel.invokeFunction('convertToInteractive',\n",
              "                                                    [key], {});\n",
              "        if (!dataTable) return;\n",
              "\n",
              "        const docLinkHtml = 'Like what you see? Visit the ' +\n",
              "          '<a target=\"_blank\" href=https://colab.research.google.com/notebooks/data_table.ipynb>data table notebook</a>'\n",
              "          + ' to learn more about interactive tables.';\n",
              "        element.innerHTML = '';\n",
              "        dataTable['output_type'] = 'display_data';\n",
              "        await google.colab.output.renderOutput(dataTable, element);\n",
              "        const docLink = document.createElement('div');\n",
              "        docLink.innerHTML = docLinkHtml;\n",
              "        element.appendChild(docLink);\n",
              "      }\n",
              "    </script>\n",
              "  </div>\n",
              "\n",
              "\n",
              "<div id=\"df-31e16abd-80cb-4419-a293-27f9147cb5f9\">\n",
              "  <button class=\"colab-df-quickchart\" onclick=\"quickchart('df-31e16abd-80cb-4419-a293-27f9147cb5f9')\"\n",
              "            title=\"Suggest charts.\"\n",
              "            style=\"display:none;\">\n",
              "\n",
              "<svg xmlns=\"http://www.w3.org/2000/svg\" height=\"24px\"viewBox=\"0 0 24 24\"\n",
              "     width=\"24px\">\n",
              "    <g>\n",
              "        <path d=\"M19 3H5c-1.1 0-2 .9-2 2v14c0 1.1.9 2 2 2h14c1.1 0 2-.9 2-2V5c0-1.1-.9-2-2-2zM9 17H7v-7h2v7zm4 0h-2V7h2v10zm4 0h-2v-4h2v4z\"/>\n",
              "    </g>\n",
              "</svg>\n",
              "  </button>\n",
              "\n",
              "<style>\n",
              "  .colab-df-quickchart {\n",
              "      --bg-color: #E8F0FE;\n",
              "      --fill-color: #1967D2;\n",
              "      --hover-bg-color: #E2EBFA;\n",
              "      --hover-fill-color: #174EA6;\n",
              "      --disabled-fill-color: #AAA;\n",
              "      --disabled-bg-color: #DDD;\n",
              "  }\n",
              "\n",
              "  [theme=dark] .colab-df-quickchart {\n",
              "      --bg-color: #3B4455;\n",
              "      --fill-color: #D2E3FC;\n",
              "      --hover-bg-color: #434B5C;\n",
              "      --hover-fill-color: #FFFFFF;\n",
              "      --disabled-bg-color: #3B4455;\n",
              "      --disabled-fill-color: #666;\n",
              "  }\n",
              "\n",
              "  .colab-df-quickchart {\n",
              "    background-color: var(--bg-color);\n",
              "    border: none;\n",
              "    border-radius: 50%;\n",
              "    cursor: pointer;\n",
              "    display: none;\n",
              "    fill: var(--fill-color);\n",
              "    height: 32px;\n",
              "    padding: 0;\n",
              "    width: 32px;\n",
              "  }\n",
              "\n",
              "  .colab-df-quickchart:hover {\n",
              "    background-color: var(--hover-bg-color);\n",
              "    box-shadow: 0 1px 2px rgba(60, 64, 67, 0.3), 0 1px 3px 1px rgba(60, 64, 67, 0.15);\n",
              "    fill: var(--button-hover-fill-color);\n",
              "  }\n",
              "\n",
              "  .colab-df-quickchart-complete:disabled,\n",
              "  .colab-df-quickchart-complete:disabled:hover {\n",
              "    background-color: var(--disabled-bg-color);\n",
              "    fill: var(--disabled-fill-color);\n",
              "    box-shadow: none;\n",
              "  }\n",
              "\n",
              "  .colab-df-spinner {\n",
              "    border: 2px solid var(--fill-color);\n",
              "    border-color: transparent;\n",
              "    border-bottom-color: var(--fill-color);\n",
              "    animation:\n",
              "      spin 1s steps(1) infinite;\n",
              "  }\n",
              "\n",
              "  @keyframes spin {\n",
              "    0% {\n",
              "      border-color: transparent;\n",
              "      border-bottom-color: var(--fill-color);\n",
              "      border-left-color: var(--fill-color);\n",
              "    }\n",
              "    20% {\n",
              "      border-color: transparent;\n",
              "      border-left-color: var(--fill-color);\n",
              "      border-top-color: var(--fill-color);\n",
              "    }\n",
              "    30% {\n",
              "      border-color: transparent;\n",
              "      border-left-color: var(--fill-color);\n",
              "      border-top-color: var(--fill-color);\n",
              "      border-right-color: var(--fill-color);\n",
              "    }\n",
              "    40% {\n",
              "      border-color: transparent;\n",
              "      border-right-color: var(--fill-color);\n",
              "      border-top-color: var(--fill-color);\n",
              "    }\n",
              "    60% {\n",
              "      border-color: transparent;\n",
              "      border-right-color: var(--fill-color);\n",
              "    }\n",
              "    80% {\n",
              "      border-color: transparent;\n",
              "      border-right-color: var(--fill-color);\n",
              "      border-bottom-color: var(--fill-color);\n",
              "    }\n",
              "    90% {\n",
              "      border-color: transparent;\n",
              "      border-bottom-color: var(--fill-color);\n",
              "    }\n",
              "  }\n",
              "</style>\n",
              "\n",
              "  <script>\n",
              "    async function quickchart(key) {\n",
              "      const quickchartButtonEl =\n",
              "        document.querySelector('#' + key + ' button');\n",
              "      quickchartButtonEl.disabled = true;  // To prevent multiple clicks.\n",
              "      quickchartButtonEl.classList.add('colab-df-spinner');\n",
              "      try {\n",
              "        const charts = await google.colab.kernel.invokeFunction(\n",
              "            'suggestCharts', [key], {});\n",
              "      } catch (error) {\n",
              "        console.error('Error during call to suggestCharts:', error);\n",
              "      }\n",
              "      quickchartButtonEl.classList.remove('colab-df-spinner');\n",
              "      quickchartButtonEl.classList.add('colab-df-quickchart-complete');\n",
              "    }\n",
              "    (() => {\n",
              "      let quickchartButtonEl =\n",
              "        document.querySelector('#df-31e16abd-80cb-4419-a293-27f9147cb5f9 button');\n",
              "      quickchartButtonEl.style.display =\n",
              "        google.colab.kernel.accessAllowed ? 'block' : 'none';\n",
              "    })();\n",
              "  </script>\n",
              "</div>\n",
              "    </div>\n",
              "  </div>\n"
            ]
          },
          "metadata": {},
          "execution_count": 15
        }
      ]
    },
    {
      "cell_type": "code",
      "source": [
        "X = data.drop('car purchase amount' , axis= 1)\n",
        "y = data['car purchase amount']"
      ],
      "metadata": {
        "id": "PiPpd737ykbw"
      },
      "execution_count": null,
      "outputs": []
    },
    {
      "cell_type": "markdown",
      "source": [
        "# EDA"
      ],
      "metadata": {
        "id": "mgHcONckzDBc"
      }
    },
    {
      "cell_type": "code",
      "source": [
        "import plotly.express as px\n",
        "fig = px.scatter(data, x=\"annual Salary\", y=\"credit card debt\",  title=\"Credit Card Debt vs Annual Salary\")\n",
        "fig.update_traces(marker_size=10)\n",
        "fig.show()"
      ],
      "metadata": {
        "colab": {
          "base_uri": "https://localhost:8080/",
          "height": 542
        },
        "id": "yUGC7Qt9y0BT",
        "outputId": "52747b7d-a8bc-41f4-b8b2-3e74f793d03d"
      },
      "execution_count": null,
      "outputs": [
        {
          "output_type": "display_data",
          "data": {
            "text/html": [
              "<html>\n",
              "<head><meta charset=\"utf-8\" /></head>\n",
              "<body>\n",
              "    <div>            <script src=\"https://cdnjs.cloudflare.com/ajax/libs/mathjax/2.7.5/MathJax.js?config=TeX-AMS-MML_SVG\"></script><script type=\"text/javascript\">if (window.MathJax && window.MathJax.Hub && window.MathJax.Hub.Config) {window.MathJax.Hub.Config({SVG: {font: \"STIX-Web\"}});}</script>                <script type=\"text/javascript\">window.PlotlyConfig = {MathJaxConfig: 'local'};</script>\n",
              "        <script charset=\"utf-8\" src=\"https://cdn.plot.ly/plotly-2.24.1.min.js\"></script>                <div id=\"5bc2c906-1b0a-4bce-9c27-c9a41728bb9f\" class=\"plotly-graph-div\" style=\"height:525px; width:100%;\"></div>            <script type=\"text/javascript\">                                    window.PLOTLYENV=window.PLOTLYENV || {};                                    if (document.getElementById(\"5bc2c906-1b0a-4bce-9c27-c9a41728bb9f\")) {                    Plotly.newPlot(                        \"5bc2c906-1b0a-4bce-9c27-c9a41728bb9f\",                        [{\"hovertemplate\":\"annual Salary=%{x}\\u003cbr\\u003ecredit card debt=%{y}\\u003cextra\\u003e\\u003c\\u002fextra\\u003e\",\"legendgroup\":\"\",\"marker\":{\"color\":\"#636efa\",\"symbol\":\"circle\",\"size\":10},\"mode\":\"markers\",\"name\":\"\",\"orientation\":\"v\",\"showlegend\":false,\"x\":[62812.09301,66646.89292,53798.55112,79370.03798,59729.1513,68499.85162,39814.522,51752.23445,58139.2591,53457.10132,73348.70745,55421.65733,37336.3383,68304.47298,72776.00382,64662.30061,63259.87837,52682.06401,54503.14423,55368.23716,63435.86304,64347.34531,65176.69055,52027.63837,69612.0123,53065.57175,82842.53385,61388.62709,100000.0,62891.86556,39627.1248,68859.56489,82358.22683,67904.39895,65311.68225,59593.2624,47460.54809,43131.78411,52263.69806,80959.5331,66417.66597,58457.41492,50571.45969,50943.16256,79792.13096,70787.27764,56098.50773,57478.37922,60181.40633,74445.08168,38406.7789,64616.6881,68107.93144,72471.81532,35069.41886,52422.94691,84467.78988,51419.50777,46609.51626,55207.45679,46689.4159,71847.2544,69236.68608,54006.77851,47228.35999,70187.50328,62262.94845,59195.82899,48716.67271,66478.00967,50280.0045,57393.82872,63429.93141,59139.2108,67015.19372,69157.4521,50867.94007,53450.90036,70463.99084,52697.15192,71055.41924,55406.46215,48567.07462,69506.62127,69453.71659,36929.35124,63087.95261,50889.34054,58065.25694,20000.0,60536.20406,50667.69759,44376.62221,75958.28349,70896.72853,56009.73073,90556.62686,71716.45662,68502.10943,46261.42666,61858.19077,49483.83262,68289.18229,47399.22827,63975.0609,75460.52362,51075.46118,42433.54619,61922.8971,69946.93924,73476.42249,75571.20188,82573.01132,50649.64492,53427.46192,75247.18061,69175.19403,84171.16719,45721.66835,54355.7595,77206.48386,57005.18595,65809.10782,65468.1442,60991.82443,61809.07451,66905.47644,65131.25015,83626.30783,64328.27892,69255.98753,60575.12604,63729.12568,64315.73671,51419.01644,53870.48483,56895.23153,52534.20778,52632.97124,42375.21424,65617.29175,49398.74439,63869.64928,60871.18248,68090.5087,54122.87827,59316.93704,38779.18396,88292.73205,68688.40199,51906.85022,52373.79446,73768.12453,55576.84068,59689.81438,55381.53225,34154.77654,54382.7481,65919.59731,39488.45582,72637.84482,67247.07698,71271.84407,71693.44742,57860.53103,69142.08412,52477.66494,47592.04749,48123.36983,76916.41515,65714.46469,40346.06491,71148.20248,81757.66856,64867.14911,70051.94033,62043.16623,85186.48921,47127.41632,61177.08698,57770.36488,60432.40367,58999.88858,62645.95516,68782.15718,67545.96382,42415.48867,44617.98314,72226.5603,48958.90535,86067.83527,65554.4018,69248.4953,59331.23555,52323.2448,63552.85175,75116.10613,38284.02013,55293.50777,63210.76235,54918.38749,57262.79581,72299.9501,50241.48985,65834.56889,60382.17885,68691.17086,65446.65687,42978.34284,58143.06285,61666.2852,64854.33966,45757.15568,73096.50927,67249.05932,77165.81297,72316.18286,68431.27055,62311.11641,53229.14547,77662.1109,69494.69783,61063.35631,79368.91741,61693.44352,47211.66812,69897.75291,63675.93263,72302.03223,63687.4988,63678.15468,77435.46545,62721.40514,70842.83518,55285.98625,72002.0552,41434.51258,60404.38394,65239.06468,62939.12851,60608.40313,56118.39601,86706.33333,41236.36497,77146.27598,56437.30404,70703.85013,69810.46265,54279.39597,70334.42787,59168.00751,61889.61618,66013.95174,55434.04046,68499.69447,54749.88645,74590.25495,67772.66646,62563.57825,70361.01504,74810.89471,49346.405,73426.08521,47684.46306,72939.83195,72277.82609,53921.33351,65312.96755,55619.34152,70914.59993,33422.99683,53382.42693,74173.39239,53587.12801,58011.6339,69171.95281,66779.91374,79173.0767,63065.12164,65530.36401,63732.3931,62689.53964,51539.93045,59060.08664,62713.78149,44747.66132,65529.70333,62426.52379,73498.30715,86565.15641,46549.16329,70111.5398,66747.66857,72025.6768,70737.29383,57455.7609,60657.59355,50694.42707,55369.72784,82425.64679,82094.10712,74090.51299,73935.74201,75719.22986,47054.14246,42003.01617,74418.55717,52786.1971,78804.99824,66932.47176,56066.07685,48591.57177,38213.88844,56444.76848,67080.6142,83333.81054,73502.12458,88816.02695,70381.37499,67647.74764,79781.90126,64665.39122,58837.97088,49607.23466,67032.16445,65245.57379,56174.3433,47227.01542,40300.49467,45504.74866,50017.38154,66226.72902,41361.95045,56687.41273,68114.60169,51086.88482,71921.45038,56807.01728,43019.8475,63875.20999,41587.39238,49661.96712,92471.17612,70136.82862,52664.71719,55618.06942,54912.44043,56692.78044,63561.04525,62788.93529,38453.86033,59486.27073,68149.63056,49393.46784,72262.20245,64494.39535,54362.70307,55657.65681,73512.41269,70621.52393,70275.68706,74420.10254,54395.05356,60384.34541,66813.664,84120.95497,54236.62092,64426.59613,71150.19894,60325.20676,91083.73918,60380.22868,72948.11812,74834.57117,67752.38329,59205.89035,64874.03368,63305.84963,74176.2079,47230.92278,65980.95617,51428.66337,75381.07571,54742.3946,76245.2434,60409.75787,57600.59673,71371.92544,79444.01301,47569.44212,71193.72803,46412.82136,57368.05622,65826.12291,61824.8798,61723.00613,72310.39623,67548.77415,62175.68945,60584.85458,66655.4142,63718.8812,60862.97749,67508.12293,61639.76386,63172.95729,58653.6591,40558.75456,76870.00765,71948.80529,67629.84819,67121.32166,57376.4803,56944.87077,60174.05765,81997.33071,36960.76994,64412.43101,70076.22764,72016.92459,63186.12783,76086.84122,74445.72702,85475.64202,51111.76605,79064.9559,55514.9934,75901.81829,56687.93949,59801.06311,57303.83325,43412.86301,58948.93261,56086.45033,80015.83115,41409.2939,40387.9207,48746.71666,70230.15498,64961.39305,57777.15558,54447.15275,59712.31101,65605.41798,70467.29492,76318.87883,77657.56243,60487.90116,67729.9725,49463.0635,65850.47688,66505.38124,58260.57232,45092.74073,63845.77186,55293.575,87598.01501,71753.30877,45368.15561,45362.66982,40727.39196,58632.58875,66680.2741,75892.3053,59297.41631,92455.72807,32697.98161,55418.75606,68921.40213,43739.97829,81565.95967,65364.06334,65019.15701,58243.17992,73558.87334,66088.02369,54441.72437,60101.79725,50153.43545,61430.93415,65846.5096,55433.61187,62979.60196,76523.33258,63956.1618,39460.00348,66923.43536,50051.14039,61575.9502,64430.07398,63722.00164,78518.21527,72424.80112,77665.17195,77345.61633,71942.40291,56039.49793,68888.77805,49811.99062,61370.67766],\"xaxis\":\"x\",\"y\":[11609.38091,9572.957136,11160.35506,14426.16485,5358.712177,14179.47244,5958.460188,10985.69656,3440.823799,12884.07868,8270.707359,10014.96929,10218.32092,9466.995128,10597.63814,11326.03434,11495.54999,12514.52029,7377.820914,13272.94647,11878.03779,10905.36628,7698.552234,11960.85377,8125.598993,17805.57607,13102.15805,14270.00731,17452.92179,12522.94052,9371.511071,13417.02027,8092.475103,11417.30952,7988.753685,12252.73058,7405.534271,10917.14094,8838.759509,4499.921096,9183.327621,12491.01273,13338.32852,10816.8855,14245.53319,10155.34095,11675.28496,2230.096344,7094.896557,7915.758178,11023.00268,12378.54089,7813.602657,11216.88676,1851.979839,6998.46562,7772.444847,11331.20447,7592.019748,9976.434857,7829.565502,4225.328117,9842.842611,15189.08845,9046.182396,6841.540577,11785.87919,8634.376791,10886.91711,13685.88702,11350.49408,5627.803654,10676.21884,4630.544424,13000.41369,15791.61176,16732.30638,8740.723093,10059.55406,861.8166529,6147.918843,9522.576495,9724.031647,5449.471997,9565.830875,9719.192898,11024.02643,11041.17891,4204.920492,14261.80773,8244.470226,9871.403591,13865.09055,10562.90377,11794.73914,11030.2654,13872.5667,8870.714301,5831.118245,16767.2636,5189.083564,11811.25253,7357.787011,14562.64194,10614.85449,6280.929547,12416.84845,7335.524826,10366.50326,9010.648633,9656.806156,12887.54899,1696.989764,11211.72016,7903.103591,13258.46631,6039.594519,12719.64415,14250.52398,10008.76797,8493.098575,12416.79083,4820.839445,7248.54142,7329.22851,2620.079459,10077.49592,6206.922109,8458.749819,13860.43821,18361.24915,8088.344365,12507.19736,14871.36126,9026.061543,14720.53399,9851.578109,7583.753853,12348.67783,6062.60136,14392.28833,6994.617316,12860.65824,4397.947571,6181.970908,15164.87506,12296.34158,12758.89583,10799.1381,15796.31838,13686.96935,11347.62967,8132.073716,9396.008371,14862.84011,5088.239017,5316.010491,6940.056371,7594.363993,10992.33383,14938.50613,9851.689538,13122.45694,14421.48298,7146.192574,8707.511532,12071.41684,13167.65763,921.5340234,13923.96207,12557.08133,11505.89906,7917.65097,7500.778414,13962.95284,4701.316175,4980.668295,12413.0319,10221.15388,9837.222432,8628.434025,11417.46257,6904.420412,11431.22966,9810.75269,7171.466112,5205.008323,9683.735879,5817.153854,2418.86434,9181.06743,12026.57975,6445.784981,10027.53449,12438.85648,9347.50353,5969.666602,15467.78745,9465.090098,3657.863218,8920.385015,7793.073201,11544.93385,14817.70896,15353.25774,11302.88277,16305.78907,8491.586154,8884.11069,9686.119304,11672.72382,3247.887523,11207.01556,10743.793,12998.47232,8737.20319,8728.916803,14088.90642,9832.05731,10756.60888,13444.89631,20000.0,12066.26571,13501.92659,10835.25736,4295.225339,9624.908869,9631.974905,10813.75655,13421.36821,5011.615145,6922.152838,16127.56619,9536.899689,17462.07506,14709.65824,6810.555606,4198.839128,7437.211028,632.0528524,8233.280719,9242.775995,9653.26498,9399.342975,7903.33495,10461.98276,5025.365518,4684.556433,5699.184814,9823.218967,10474.44187,12024.48457,7039.540023,18693.14652,15436.79968,7631.687821,5614.004976,6887.248301,6130.305181,12024.72511,13658.34201,5827.820346,14822.79645,10128.76114,7787.204492,13580.87747,9046.18109,11398.82486,11212.43791,9644.41026,8570.611562,5055.43571,11315.59626,8501.49728,9822.426192,6354.833826,14300.12614,6913.05683,8907.661779,8774.069514,12848.20061,8732.143355,6932.950306,5841.612044,11498.03993,4975.144559,3932.838165,6619.929677,3066.939924,13701.79986,640.045378,7949.463649,9691.23462,6988.652757,13851.11162,12186.02793,3331.304747,10881.90102,10888.93494,7525.252104,1065.607589,10877.69223,8253.583457,10515.28135,7234.672092,6052.844775,8632.699007,9246.813159,12710.00309,11033.16277,5235.7599,14309.21115,11492.74174,11932.73881,7880.423663,9874.075327,11132.39299,9317.22195,6718.857016,8767.783547,11148.10325,7404.080751,12788.81573,9344.32377,7666.5303,11554.2723,10394.57246,11312.51035,8828.164449,9245.466786,7514.393035,8511.814921,10755.50842,9050.284083,11633.95265,12254.53943,6354.372629,8851.564939,8527.034281,11397.68601,5397.031602,4679.441732,5404.397644,7765.975483,14435.74305,7557.657205,8203.56263,7946.435929,3730.11972,13224.45167,15283.41752,6515.336778,9560.448204,11521.6189,12124.82386,8765.624109,15647.35449,9625.399586,11054.27478,9384.067625,10359.17579,10274.13558,10693.88704,11518.29175,15458.68867,9596.513091,7275.314728,9514.645028,9848.997857,10128.1151,13148.85597,2799.719601,12664.32052,9366.027561,13851.92122,2689.317953,8511.835275,16146.77016,11894.4244,4421.153379,7009.186038,9221.265417,7925.059589,10342.60917,6139.387823,9611.317626,10340.30041,7094.827,11620.1079,7840.293189,3854.733177,11652.2729,10175.74457,11715.3714,11211.99502,9913.194941,3093.707686,10462.35581,12967.284,8133.45931,8001.644302,11863.06428,8033.550461,10188.68685,17870.63765,6332.2019,17142.41332,4981.269146,5575.323416,8061.968487,10916.85532,12087.38116,12878.54582,16449.0665,15666.43155,12616.45622,1768.874438,10449.61818,1726.809885,11602.74297,7122.163863,9258.181529,7515.152476,13786.14942,9057.600508,7221.667169,8009.719809,6512.71102,10827.1614,8042.386734,10836.41709,7843.402994,8282.075073,6588.606462,9064.618618,8211.34092,5761.401538,3923.407178,8542.019129,6885.723977,19692.91262,13141.31969,7135.98755,13629.1104,100.0,6392.211408,14438.24233,9911.037592,10279.91264,6478.156506,3912.385616,3942.76762,4658.41454,11380.09288,7761.848528,8276.644566,10814.57915,9119.791422,12203.48778,2524.992105,9725.549901,12035.37079,10263.14899,8110.946984,9592.433147,9877.169366,10858.02526,8837.654857,8120.204455,5933.177726,9072.063059,7839.414396,4931.56016,15149.03426,11164.52652,6769.181833,4362.720324,12989.36784,6596.01369,11561.07365,9141.668545,10769.75059,14297.25366,10373.00856,16978.52745,8769.290288,8611.468093,893.2353408,594.8049491,6924.106833,10711.44472,10072.48298,9831.184792,13308.87932,6736.75168,6995.902524,12301.45679,10611.60686,14013.03451,9391.341628],\"yaxis\":\"y\",\"type\":\"scatter\"}],                        {\"template\":{\"data\":{\"histogram2dcontour\":[{\"type\":\"histogram2dcontour\",\"colorbar\":{\"outlinewidth\":0,\"ticks\":\"\"},\"colorscale\":[[0.0,\"#0d0887\"],[0.1111111111111111,\"#46039f\"],[0.2222222222222222,\"#7201a8\"],[0.3333333333333333,\"#9c179e\"],[0.4444444444444444,\"#bd3786\"],[0.5555555555555556,\"#d8576b\"],[0.6666666666666666,\"#ed7953\"],[0.7777777777777778,\"#fb9f3a\"],[0.8888888888888888,\"#fdca26\"],[1.0,\"#f0f921\"]]}],\"choropleth\":[{\"type\":\"choropleth\",\"colorbar\":{\"outlinewidth\":0,\"ticks\":\"\"}}],\"histogram2d\":[{\"type\":\"histogram2d\",\"colorbar\":{\"outlinewidth\":0,\"ticks\":\"\"},\"colorscale\":[[0.0,\"#0d0887\"],[0.1111111111111111,\"#46039f\"],[0.2222222222222222,\"#7201a8\"],[0.3333333333333333,\"#9c179e\"],[0.4444444444444444,\"#bd3786\"],[0.5555555555555556,\"#d8576b\"],[0.6666666666666666,\"#ed7953\"],[0.7777777777777778,\"#fb9f3a\"],[0.8888888888888888,\"#fdca26\"],[1.0,\"#f0f921\"]]}],\"heatmap\":[{\"type\":\"heatmap\",\"colorbar\":{\"outlinewidth\":0,\"ticks\":\"\"},\"colorscale\":[[0.0,\"#0d0887\"],[0.1111111111111111,\"#46039f\"],[0.2222222222222222,\"#7201a8\"],[0.3333333333333333,\"#9c179e\"],[0.4444444444444444,\"#bd3786\"],[0.5555555555555556,\"#d8576b\"],[0.6666666666666666,\"#ed7953\"],[0.7777777777777778,\"#fb9f3a\"],[0.8888888888888888,\"#fdca26\"],[1.0,\"#f0f921\"]]}],\"heatmapgl\":[{\"type\":\"heatmapgl\",\"colorbar\":{\"outlinewidth\":0,\"ticks\":\"\"},\"colorscale\":[[0.0,\"#0d0887\"],[0.1111111111111111,\"#46039f\"],[0.2222222222222222,\"#7201a8\"],[0.3333333333333333,\"#9c179e\"],[0.4444444444444444,\"#bd3786\"],[0.5555555555555556,\"#d8576b\"],[0.6666666666666666,\"#ed7953\"],[0.7777777777777778,\"#fb9f3a\"],[0.8888888888888888,\"#fdca26\"],[1.0,\"#f0f921\"]]}],\"contourcarpet\":[{\"type\":\"contourcarpet\",\"colorbar\":{\"outlinewidth\":0,\"ticks\":\"\"}}],\"contour\":[{\"type\":\"contour\",\"colorbar\":{\"outlinewidth\":0,\"ticks\":\"\"},\"colorscale\":[[0.0,\"#0d0887\"],[0.1111111111111111,\"#46039f\"],[0.2222222222222222,\"#7201a8\"],[0.3333333333333333,\"#9c179e\"],[0.4444444444444444,\"#bd3786\"],[0.5555555555555556,\"#d8576b\"],[0.6666666666666666,\"#ed7953\"],[0.7777777777777778,\"#fb9f3a\"],[0.8888888888888888,\"#fdca26\"],[1.0,\"#f0f921\"]]}],\"surface\":[{\"type\":\"surface\",\"colorbar\":{\"outlinewidth\":0,\"ticks\":\"\"},\"colorscale\":[[0.0,\"#0d0887\"],[0.1111111111111111,\"#46039f\"],[0.2222222222222222,\"#7201a8\"],[0.3333333333333333,\"#9c179e\"],[0.4444444444444444,\"#bd3786\"],[0.5555555555555556,\"#d8576b\"],[0.6666666666666666,\"#ed7953\"],[0.7777777777777778,\"#fb9f3a\"],[0.8888888888888888,\"#fdca26\"],[1.0,\"#f0f921\"]]}],\"mesh3d\":[{\"type\":\"mesh3d\",\"colorbar\":{\"outlinewidth\":0,\"ticks\":\"\"}}],\"scatter\":[{\"fillpattern\":{\"fillmode\":\"overlay\",\"size\":10,\"solidity\":0.2},\"type\":\"scatter\"}],\"parcoords\":[{\"type\":\"parcoords\",\"line\":{\"colorbar\":{\"outlinewidth\":0,\"ticks\":\"\"}}}],\"scatterpolargl\":[{\"type\":\"scatterpolargl\",\"marker\":{\"colorbar\":{\"outlinewidth\":0,\"ticks\":\"\"}}}],\"bar\":[{\"error_x\":{\"color\":\"#2a3f5f\"},\"error_y\":{\"color\":\"#2a3f5f\"},\"marker\":{\"line\":{\"color\":\"#E5ECF6\",\"width\":0.5},\"pattern\":{\"fillmode\":\"overlay\",\"size\":10,\"solidity\":0.2}},\"type\":\"bar\"}],\"scattergeo\":[{\"type\":\"scattergeo\",\"marker\":{\"colorbar\":{\"outlinewidth\":0,\"ticks\":\"\"}}}],\"scatterpolar\":[{\"type\":\"scatterpolar\",\"marker\":{\"colorbar\":{\"outlinewidth\":0,\"ticks\":\"\"}}}],\"histogram\":[{\"marker\":{\"pattern\":{\"fillmode\":\"overlay\",\"size\":10,\"solidity\":0.2}},\"type\":\"histogram\"}],\"scattergl\":[{\"type\":\"scattergl\",\"marker\":{\"colorbar\":{\"outlinewidth\":0,\"ticks\":\"\"}}}],\"scatter3d\":[{\"type\":\"scatter3d\",\"line\":{\"colorbar\":{\"outlinewidth\":0,\"ticks\":\"\"}},\"marker\":{\"colorbar\":{\"outlinewidth\":0,\"ticks\":\"\"}}}],\"scattermapbox\":[{\"type\":\"scattermapbox\",\"marker\":{\"colorbar\":{\"outlinewidth\":0,\"ticks\":\"\"}}}],\"scatterternary\":[{\"type\":\"scatterternary\",\"marker\":{\"colorbar\":{\"outlinewidth\":0,\"ticks\":\"\"}}}],\"scattercarpet\":[{\"type\":\"scattercarpet\",\"marker\":{\"colorbar\":{\"outlinewidth\":0,\"ticks\":\"\"}}}],\"carpet\":[{\"aaxis\":{\"endlinecolor\":\"#2a3f5f\",\"gridcolor\":\"white\",\"linecolor\":\"white\",\"minorgridcolor\":\"white\",\"startlinecolor\":\"#2a3f5f\"},\"baxis\":{\"endlinecolor\":\"#2a3f5f\",\"gridcolor\":\"white\",\"linecolor\":\"white\",\"minorgridcolor\":\"white\",\"startlinecolor\":\"#2a3f5f\"},\"type\":\"carpet\"}],\"table\":[{\"cells\":{\"fill\":{\"color\":\"#EBF0F8\"},\"line\":{\"color\":\"white\"}},\"header\":{\"fill\":{\"color\":\"#C8D4E3\"},\"line\":{\"color\":\"white\"}},\"type\":\"table\"}],\"barpolar\":[{\"marker\":{\"line\":{\"color\":\"#E5ECF6\",\"width\":0.5},\"pattern\":{\"fillmode\":\"overlay\",\"size\":10,\"solidity\":0.2}},\"type\":\"barpolar\"}],\"pie\":[{\"automargin\":true,\"type\":\"pie\"}]},\"layout\":{\"autotypenumbers\":\"strict\",\"colorway\":[\"#636efa\",\"#EF553B\",\"#00cc96\",\"#ab63fa\",\"#FFA15A\",\"#19d3f3\",\"#FF6692\",\"#B6E880\",\"#FF97FF\",\"#FECB52\"],\"font\":{\"color\":\"#2a3f5f\"},\"hovermode\":\"closest\",\"hoverlabel\":{\"align\":\"left\"},\"paper_bgcolor\":\"white\",\"plot_bgcolor\":\"#E5ECF6\",\"polar\":{\"bgcolor\":\"#E5ECF6\",\"angularaxis\":{\"gridcolor\":\"white\",\"linecolor\":\"white\",\"ticks\":\"\"},\"radialaxis\":{\"gridcolor\":\"white\",\"linecolor\":\"white\",\"ticks\":\"\"}},\"ternary\":{\"bgcolor\":\"#E5ECF6\",\"aaxis\":{\"gridcolor\":\"white\",\"linecolor\":\"white\",\"ticks\":\"\"},\"baxis\":{\"gridcolor\":\"white\",\"linecolor\":\"white\",\"ticks\":\"\"},\"caxis\":{\"gridcolor\":\"white\",\"linecolor\":\"white\",\"ticks\":\"\"}},\"coloraxis\":{\"colorbar\":{\"outlinewidth\":0,\"ticks\":\"\"}},\"colorscale\":{\"sequential\":[[0.0,\"#0d0887\"],[0.1111111111111111,\"#46039f\"],[0.2222222222222222,\"#7201a8\"],[0.3333333333333333,\"#9c179e\"],[0.4444444444444444,\"#bd3786\"],[0.5555555555555556,\"#d8576b\"],[0.6666666666666666,\"#ed7953\"],[0.7777777777777778,\"#fb9f3a\"],[0.8888888888888888,\"#fdca26\"],[1.0,\"#f0f921\"]],\"sequentialminus\":[[0.0,\"#0d0887\"],[0.1111111111111111,\"#46039f\"],[0.2222222222222222,\"#7201a8\"],[0.3333333333333333,\"#9c179e\"],[0.4444444444444444,\"#bd3786\"],[0.5555555555555556,\"#d8576b\"],[0.6666666666666666,\"#ed7953\"],[0.7777777777777778,\"#fb9f3a\"],[0.8888888888888888,\"#fdca26\"],[1.0,\"#f0f921\"]],\"diverging\":[[0,\"#8e0152\"],[0.1,\"#c51b7d\"],[0.2,\"#de77ae\"],[0.3,\"#f1b6da\"],[0.4,\"#fde0ef\"],[0.5,\"#f7f7f7\"],[0.6,\"#e6f5d0\"],[0.7,\"#b8e186\"],[0.8,\"#7fbc41\"],[0.9,\"#4d9221\"],[1,\"#276419\"]]},\"xaxis\":{\"gridcolor\":\"white\",\"linecolor\":\"white\",\"ticks\":\"\",\"title\":{\"standoff\":15},\"zerolinecolor\":\"white\",\"automargin\":true,\"zerolinewidth\":2},\"yaxis\":{\"gridcolor\":\"white\",\"linecolor\":\"white\",\"ticks\":\"\",\"title\":{\"standoff\":15},\"zerolinecolor\":\"white\",\"automargin\":true,\"zerolinewidth\":2},\"scene\":{\"xaxis\":{\"backgroundcolor\":\"#E5ECF6\",\"gridcolor\":\"white\",\"linecolor\":\"white\",\"showbackground\":true,\"ticks\":\"\",\"zerolinecolor\":\"white\",\"gridwidth\":2},\"yaxis\":{\"backgroundcolor\":\"#E5ECF6\",\"gridcolor\":\"white\",\"linecolor\":\"white\",\"showbackground\":true,\"ticks\":\"\",\"zerolinecolor\":\"white\",\"gridwidth\":2},\"zaxis\":{\"backgroundcolor\":\"#E5ECF6\",\"gridcolor\":\"white\",\"linecolor\":\"white\",\"showbackground\":true,\"ticks\":\"\",\"zerolinecolor\":\"white\",\"gridwidth\":2}},\"shapedefaults\":{\"line\":{\"color\":\"#2a3f5f\"}},\"annotationdefaults\":{\"arrowcolor\":\"#2a3f5f\",\"arrowhead\":0,\"arrowwidth\":1},\"geo\":{\"bgcolor\":\"white\",\"landcolor\":\"#E5ECF6\",\"subunitcolor\":\"white\",\"showland\":true,\"showlakes\":true,\"lakecolor\":\"white\"},\"title\":{\"x\":0.05},\"mapbox\":{\"style\":\"light\"}}},\"xaxis\":{\"anchor\":\"y\",\"domain\":[0.0,1.0],\"title\":{\"text\":\"annual Salary\"}},\"yaxis\":{\"anchor\":\"x\",\"domain\":[0.0,1.0],\"title\":{\"text\":\"credit card debt\"}},\"legend\":{\"tracegroupgap\":0},\"title\":{\"text\":\"Credit Card Debt vs Annual Salary\"}},                        {\"responsive\": true}                    ).then(function(){\n",
              "                            \n",
              "var gd = document.getElementById('5bc2c906-1b0a-4bce-9c27-c9a41728bb9f');\n",
              "var x = new MutationObserver(function (mutations, observer) {{\n",
              "        var display = window.getComputedStyle(gd).display;\n",
              "        if (!display || display === 'none') {{\n",
              "            console.log([gd, 'removed!']);\n",
              "            Plotly.purge(gd);\n",
              "            observer.disconnect();\n",
              "        }}\n",
              "}});\n",
              "\n",
              "// Listen for the removal of the full notebook cells\n",
              "var notebookContainer = gd.closest('#notebook-container');\n",
              "if (notebookContainer) {{\n",
              "    x.observe(notebookContainer, {childList: true});\n",
              "}}\n",
              "\n",
              "// Listen for the clearing of the current output cell\n",
              "var outputEl = gd.closest('.output');\n",
              "if (outputEl) {{\n",
              "    x.observe(outputEl, {childList: true});\n",
              "}}\n",
              "\n",
              "                        })                };                            </script>        </div>\n",
              "</body>\n",
              "</html>"
            ]
          },
          "metadata": {}
        }
      ]
    },
    {
      "cell_type": "code",
      "source": [
        "fig = px.scatter(data, x=\"annual Salary\", y=\"car purchase amount\",  title=\"Car Purchase Amount vs Annual Salary\")\n",
        "fig.update_traces(marker_size=10)\n",
        "fig.show()"
      ],
      "metadata": {
        "colab": {
          "base_uri": "https://localhost:8080/",
          "height": 542
        },
        "id": "qCu_k5qmz5l1",
        "outputId": "ae1285d9-71a8-417d-9ae5-4b318a60e360"
      },
      "execution_count": null,
      "outputs": [
        {
          "output_type": "display_data",
          "data": {
            "text/html": [
              "<html>\n",
              "<head><meta charset=\"utf-8\" /></head>\n",
              "<body>\n",
              "    <div>            <script src=\"https://cdnjs.cloudflare.com/ajax/libs/mathjax/2.7.5/MathJax.js?config=TeX-AMS-MML_SVG\"></script><script type=\"text/javascript\">if (window.MathJax && window.MathJax.Hub && window.MathJax.Hub.Config) {window.MathJax.Hub.Config({SVG: {font: \"STIX-Web\"}});}</script>                <script type=\"text/javascript\">window.PlotlyConfig = {MathJaxConfig: 'local'};</script>\n",
              "        <script charset=\"utf-8\" src=\"https://cdn.plot.ly/plotly-2.24.1.min.js\"></script>                <div id=\"cd8fe818-72eb-40c5-973b-8c2dbe5fc91a\" class=\"plotly-graph-div\" style=\"height:525px; width:100%;\"></div>            <script type=\"text/javascript\">                                    window.PLOTLYENV=window.PLOTLYENV || {};                                    if (document.getElementById(\"cd8fe818-72eb-40c5-973b-8c2dbe5fc91a\")) {                    Plotly.newPlot(                        \"cd8fe818-72eb-40c5-973b-8c2dbe5fc91a\",                        [{\"hovertemplate\":\"annual Salary=%{x}\\u003cbr\\u003ecar purchase amount=%{y}\\u003cextra\\u003e\\u003c\\u002fextra\\u003e\",\"legendgroup\":\"\",\"marker\":{\"color\":\"#636efa\",\"symbol\":\"circle\",\"size\":10},\"mode\":\"markers\",\"name\":\"\",\"orientation\":\"v\",\"showlegend\":false,\"x\":[62812.09301,66646.89292,53798.55112,79370.03798,59729.1513,68499.85162,39814.522,51752.23445,58139.2591,53457.10132,73348.70745,55421.65733,37336.3383,68304.47298,72776.00382,64662.30061,63259.87837,52682.06401,54503.14423,55368.23716,63435.86304,64347.34531,65176.69055,52027.63837,69612.0123,53065.57175,82842.53385,61388.62709,100000.0,62891.86556,39627.1248,68859.56489,82358.22683,67904.39895,65311.68225,59593.2624,47460.54809,43131.78411,52263.69806,80959.5331,66417.66597,58457.41492,50571.45969,50943.16256,79792.13096,70787.27764,56098.50773,57478.37922,60181.40633,74445.08168,38406.7789,64616.6881,68107.93144,72471.81532,35069.41886,52422.94691,84467.78988,51419.50777,46609.51626,55207.45679,46689.4159,71847.2544,69236.68608,54006.77851,47228.35999,70187.50328,62262.94845,59195.82899,48716.67271,66478.00967,50280.0045,57393.82872,63429.93141,59139.2108,67015.19372,69157.4521,50867.94007,53450.90036,70463.99084,52697.15192,71055.41924,55406.46215,48567.07462,69506.62127,69453.71659,36929.35124,63087.95261,50889.34054,58065.25694,20000.0,60536.20406,50667.69759,44376.62221,75958.28349,70896.72853,56009.73073,90556.62686,71716.45662,68502.10943,46261.42666,61858.19077,49483.83262,68289.18229,47399.22827,63975.0609,75460.52362,51075.46118,42433.54619,61922.8971,69946.93924,73476.42249,75571.20188,82573.01132,50649.64492,53427.46192,75247.18061,69175.19403,84171.16719,45721.66835,54355.7595,77206.48386,57005.18595,65809.10782,65468.1442,60991.82443,61809.07451,66905.47644,65131.25015,83626.30783,64328.27892,69255.98753,60575.12604,63729.12568,64315.73671,51419.01644,53870.48483,56895.23153,52534.20778,52632.97124,42375.21424,65617.29175,49398.74439,63869.64928,60871.18248,68090.5087,54122.87827,59316.93704,38779.18396,88292.73205,68688.40199,51906.85022,52373.79446,73768.12453,55576.84068,59689.81438,55381.53225,34154.77654,54382.7481,65919.59731,39488.45582,72637.84482,67247.07698,71271.84407,71693.44742,57860.53103,69142.08412,52477.66494,47592.04749,48123.36983,76916.41515,65714.46469,40346.06491,71148.20248,81757.66856,64867.14911,70051.94033,62043.16623,85186.48921,47127.41632,61177.08698,57770.36488,60432.40367,58999.88858,62645.95516,68782.15718,67545.96382,42415.48867,44617.98314,72226.5603,48958.90535,86067.83527,65554.4018,69248.4953,59331.23555,52323.2448,63552.85175,75116.10613,38284.02013,55293.50777,63210.76235,54918.38749,57262.79581,72299.9501,50241.48985,65834.56889,60382.17885,68691.17086,65446.65687,42978.34284,58143.06285,61666.2852,64854.33966,45757.15568,73096.50927,67249.05932,77165.81297,72316.18286,68431.27055,62311.11641,53229.14547,77662.1109,69494.69783,61063.35631,79368.91741,61693.44352,47211.66812,69897.75291,63675.93263,72302.03223,63687.4988,63678.15468,77435.46545,62721.40514,70842.83518,55285.98625,72002.0552,41434.51258,60404.38394,65239.06468,62939.12851,60608.40313,56118.39601,86706.33333,41236.36497,77146.27598,56437.30404,70703.85013,69810.46265,54279.39597,70334.42787,59168.00751,61889.61618,66013.95174,55434.04046,68499.69447,54749.88645,74590.25495,67772.66646,62563.57825,70361.01504,74810.89471,49346.405,73426.08521,47684.46306,72939.83195,72277.82609,53921.33351,65312.96755,55619.34152,70914.59993,33422.99683,53382.42693,74173.39239,53587.12801,58011.6339,69171.95281,66779.91374,79173.0767,63065.12164,65530.36401,63732.3931,62689.53964,51539.93045,59060.08664,62713.78149,44747.66132,65529.70333,62426.52379,73498.30715,86565.15641,46549.16329,70111.5398,66747.66857,72025.6768,70737.29383,57455.7609,60657.59355,50694.42707,55369.72784,82425.64679,82094.10712,74090.51299,73935.74201,75719.22986,47054.14246,42003.01617,74418.55717,52786.1971,78804.99824,66932.47176,56066.07685,48591.57177,38213.88844,56444.76848,67080.6142,83333.81054,73502.12458,88816.02695,70381.37499,67647.74764,79781.90126,64665.39122,58837.97088,49607.23466,67032.16445,65245.57379,56174.3433,47227.01542,40300.49467,45504.74866,50017.38154,66226.72902,41361.95045,56687.41273,68114.60169,51086.88482,71921.45038,56807.01728,43019.8475,63875.20999,41587.39238,49661.96712,92471.17612,70136.82862,52664.71719,55618.06942,54912.44043,56692.78044,63561.04525,62788.93529,38453.86033,59486.27073,68149.63056,49393.46784,72262.20245,64494.39535,54362.70307,55657.65681,73512.41269,70621.52393,70275.68706,74420.10254,54395.05356,60384.34541,66813.664,84120.95497,54236.62092,64426.59613,71150.19894,60325.20676,91083.73918,60380.22868,72948.11812,74834.57117,67752.38329,59205.89035,64874.03368,63305.84963,74176.2079,47230.92278,65980.95617,51428.66337,75381.07571,54742.3946,76245.2434,60409.75787,57600.59673,71371.92544,79444.01301,47569.44212,71193.72803,46412.82136,57368.05622,65826.12291,61824.8798,61723.00613,72310.39623,67548.77415,62175.68945,60584.85458,66655.4142,63718.8812,60862.97749,67508.12293,61639.76386,63172.95729,58653.6591,40558.75456,76870.00765,71948.80529,67629.84819,67121.32166,57376.4803,56944.87077,60174.05765,81997.33071,36960.76994,64412.43101,70076.22764,72016.92459,63186.12783,76086.84122,74445.72702,85475.64202,51111.76605,79064.9559,55514.9934,75901.81829,56687.93949,59801.06311,57303.83325,43412.86301,58948.93261,56086.45033,80015.83115,41409.2939,40387.9207,48746.71666,70230.15498,64961.39305,57777.15558,54447.15275,59712.31101,65605.41798,70467.29492,76318.87883,77657.56243,60487.90116,67729.9725,49463.0635,65850.47688,66505.38124,58260.57232,45092.74073,63845.77186,55293.575,87598.01501,71753.30877,45368.15561,45362.66982,40727.39196,58632.58875,66680.2741,75892.3053,59297.41631,92455.72807,32697.98161,55418.75606,68921.40213,43739.97829,81565.95967,65364.06334,65019.15701,58243.17992,73558.87334,66088.02369,54441.72437,60101.79725,50153.43545,61430.93415,65846.5096,55433.61187,62979.60196,76523.33258,63956.1618,39460.00348,66923.43536,50051.14039,61575.9502,64430.07398,63722.00164,78518.21527,72424.80112,77665.17195,77345.61633,71942.40291,56039.49793,68888.77805,49811.99062,61370.67766],\"xaxis\":\"x\",\"y\":[35321.45877,45115.52566,42925.70921,67422.36313,55915.46248,56611.99784,28925.70549,47434.98265,48013.6141,38189.50601,59045.51309,42288.81046,28700.0334,49258.87571,49510.03356,53017.26723,41814.72067,43901.71244,44633.99241,54827.52403,51130.95379,43402.31525,47240.86004,46635.49432,45078.40193,44387.58412,37161.55393,49091.97185,58350.31809,43994.35972,17584.56963,44650.36073,66363.89316,53489.46214,39810.34817,51612.14311,38978.67458,10092.22509,35928.52404,54823.19221,45805.67186,41567.47033,28031.20985,27815.73813,68678.4352,68925.09447,34215.7615,37843.46619,37883.24231,48734.35708,27187.23914,63738.39065,48266.75516,46381.13111,31978.9799,48100.29052,47380.91224,41425.00116,38147.81018,32737.80177,37348.13737,47483.85316,49730.53339,40093.61981,42297.5062,52954.93121,48104.11184,43680.91327,52707.96816,49392.8897,30841.00154,49373.37555,41903.65171,45058.8969,52991.52667,50958.08115,41357.17897,44434.71917,38502.42392,41221.24918,38399.46139,41456.68097,30394.82494,42384.05128,39002.0771,19553.2739,45167.32542,36019.9556,50937.93844,12895.71468,38955.21919,51221.04249,25971.95673,60670.33672,54075.12064,40004.87142,61593.52058,39503.38829,52474.71839,42187.6828,57441.44414,22681.71667,33640.73697,31540.77868,60461.24268,45738.3343,34803.82395,34642.6024,27586.71854,54973.02495,49142.51174,58840.53964,57306.32866,51941.6756,30240.60975,67120.89878,42408.02625,41451.71843,42592.88647,34521.17618,42213.69644,41913.53713,59416.18101,51402.61506,54755.42038,47143.44008,64391.68906,37252.55194,52665.36511,44001.20706,51551.67997,38243.66481,39766.64804,40077.57289,33131.52734,48622.66097,47693.23482,39410.4616,33428.40183,32700.27871,62864.43011,29425.83001,44418.60955,36645.5609,53655.53859,45977.12502,38504.39444,47935.9394,60222.22672,38930.55234,27810.21814,47604.34591,42356.6895,31300.54347,42369.64247,31837.22537,26499.31418,38172.83602,39433.40631,37714.31659,57125.41541,46453.34819,43855.06077,55592.70383,42484.02283,40879.19107,20653.21409,35438.80549,36112.79346,38182.30465,41026.02421,27889.95197,43724.4896,57430.76903,41104.07108,49050.85378,41265.52929,64545.16339,29052.09521,30719.8156,38763.11306,39331.20127,32608.45468,58045.56257,54387.27727,36638.20688,39522.13129,42978.34626,60865.76396,46380.44732,56579.90338,42774.35579,37879.65385,45208.42539,56229.4127,50455.11935,49721.31082,31696.99679,49220.0218,46188.83514,36086.93161,43264.04965,40660.38317,51683.60859,44525.02085,48518.90163,45805.30588,54850.38742,32478.44758,42209.28948,55125.93237,47984.42062,43405.89086,44577.44829,37744.54285,47805.25605,44846.68557,46643.26581,56563.98675,41673.44617,61118.46947,37303.56701,46892.26617,56457.74038,45509.69732,27625.44144,46389.50237,29002.05665,51355.7106,42011.19965,52654.40455,44432.71747,46054.60253,58235.41454,42990.29255,50702.18103,47009.57741,49399.97041,42997.16761,44434.98419,46325.50959,46846.7305,56499.10202,42773.75905,52313.98392,34139.6373,60763.24731,66158.69494,31215.6421,46135.27233,56973.18105,24184.07443,49079.61942,37093.92033,43401.56612,29092.1311,48349.16457,33261.00057,41327.16554,49336.11628,51405.55229,31249.98803,43598.96993,48300.02057,54013.47595,38674.66038,37076.82508,37947.85125,41320.07256,66888.93694,12536.93842,39549.13039,52709.08196,53502.97742,52116.90791,38705.65839,48025.02542,59483.91183,35911.64559,41034.28343,51730.17434,53021.86074,32828.03477,29417.64694,57461.51158,50441.62427,41575.34739,46412.47781,47610.11718,70878.29664,55543.38497,53848.7555,39904.81613,44736.41097,46937.17422,28440.81268,38148.00163,42747.53925,29670.83337,63038.20422,63248.76188,42321.56548,44463.30502,67092.23276,22091.11839,40022.17406,56071.61377,49442.12107,42497.72862,37084.77621,51866.48719,35716.31133,39892.93343,35781.16156,42866.21274,80000.0,60526.97788,59758.73247,39606.24598,58641.71051,52983.89411,50666.88173,59625.02618,22630.25982,41137.89459,53496.48183,36543.93642,43503.97349,31146.71078,31526.04931,31083.70271,45366.35963,25252.93221,39888.59789,52240.72866,39911.6116,45857.75365,30826.10903,39422.79389,34678.83226,23517.91983,28733.68779,59096.26978,50188.86612,35659.12237,46398.35204,32291.18978,49079.29461,49348.88394,41427.59797,24221.99937,44424.07681,60390.06616,42793.9932,46935.72774,58667.06865,38042.80065,39270.57909,54606.18769,39083.94268,47984.12043,46082.80993,30964.07804,35726.95299,49065.1634,48955.85816,37183.10293,46710.52519,52889.56257,29754.66271,60960.83428,39975.43302,38545.80328,56764.44728,63079.84329,55700.83389,36367.18452,52477.83479,50296.67496,37259.84386,47715.96049,29540.87013,60567.18837,36125.48846,57303.87131,51922.07691,35848.82935,42704.3221,55174.98946,26599.90843,53993.44322,47970.76767,43641.65727,41679.7929,63140.05082,30757.65726,65592.22012,37871.7082,42919.5196,22599.45863,70598.96768,43242.58224,38138.57511,30419.8,63868.94051,45112.94547,44361.87507,19525.29827,49991.60697,61731.71426,41769.38288,46402.53583,37376.63439,33766.6413,30667.60927,52056.41478,30736.5798,39439.45349,38174.87433,40589.8625,62028.71192,48465.27211,40095.0498,49568.47685,31408.62631,47719.47741,35784.42411,42905.53815,48516.84335,45593.6849,32061.6467,32208.37522,35475.00344,29519.56184,55420.56668,42139.64528,50539.90169,34922.42846,43898.2733,39135.03023,41147.46679,24134.59205,42705.11311,38901.60925,28645.39425,52150.41786,66648.25077,42909.27129,49248.10595,27303.17104,47869.82593,59984.16361,45271.46081,9000.0,46012.10616,32967.20191,48785.15839,45824.5656,40102.11417,35457.1486,29556.7932,38243.06228,44430.63323,51046.42226,52570.36517,61404.22578,28463.64326,27586.20078,47979.48549,28164.86039,69669.47402,48052.65091,37364.23474,44500.81936,35139.24793,55167.37361,48383.69071,35823.55471,36517.70996,53110.88052,53049.44567,21471.11367,45015.67953,55377.87697,56510.13294,47443.74443,41489.64123,32553.53423,41984.62412,59538.40327,41352.47071,52785.16947,60117.67886,47760.66427,64188.26862,48901.44342,31491.41457,64147.28888,45442.15353,45107.22566],\"yaxis\":\"y\",\"type\":\"scatter\"}],                        {\"template\":{\"data\":{\"histogram2dcontour\":[{\"type\":\"histogram2dcontour\",\"colorbar\":{\"outlinewidth\":0,\"ticks\":\"\"},\"colorscale\":[[0.0,\"#0d0887\"],[0.1111111111111111,\"#46039f\"],[0.2222222222222222,\"#7201a8\"],[0.3333333333333333,\"#9c179e\"],[0.4444444444444444,\"#bd3786\"],[0.5555555555555556,\"#d8576b\"],[0.6666666666666666,\"#ed7953\"],[0.7777777777777778,\"#fb9f3a\"],[0.8888888888888888,\"#fdca26\"],[1.0,\"#f0f921\"]]}],\"choropleth\":[{\"type\":\"choropleth\",\"colorbar\":{\"outlinewidth\":0,\"ticks\":\"\"}}],\"histogram2d\":[{\"type\":\"histogram2d\",\"colorbar\":{\"outlinewidth\":0,\"ticks\":\"\"},\"colorscale\":[[0.0,\"#0d0887\"],[0.1111111111111111,\"#46039f\"],[0.2222222222222222,\"#7201a8\"],[0.3333333333333333,\"#9c179e\"],[0.4444444444444444,\"#bd3786\"],[0.5555555555555556,\"#d8576b\"],[0.6666666666666666,\"#ed7953\"],[0.7777777777777778,\"#fb9f3a\"],[0.8888888888888888,\"#fdca26\"],[1.0,\"#f0f921\"]]}],\"heatmap\":[{\"type\":\"heatmap\",\"colorbar\":{\"outlinewidth\":0,\"ticks\":\"\"},\"colorscale\":[[0.0,\"#0d0887\"],[0.1111111111111111,\"#46039f\"],[0.2222222222222222,\"#7201a8\"],[0.3333333333333333,\"#9c179e\"],[0.4444444444444444,\"#bd3786\"],[0.5555555555555556,\"#d8576b\"],[0.6666666666666666,\"#ed7953\"],[0.7777777777777778,\"#fb9f3a\"],[0.8888888888888888,\"#fdca26\"],[1.0,\"#f0f921\"]]}],\"heatmapgl\":[{\"type\":\"heatmapgl\",\"colorbar\":{\"outlinewidth\":0,\"ticks\":\"\"},\"colorscale\":[[0.0,\"#0d0887\"],[0.1111111111111111,\"#46039f\"],[0.2222222222222222,\"#7201a8\"],[0.3333333333333333,\"#9c179e\"],[0.4444444444444444,\"#bd3786\"],[0.5555555555555556,\"#d8576b\"],[0.6666666666666666,\"#ed7953\"],[0.7777777777777778,\"#fb9f3a\"],[0.8888888888888888,\"#fdca26\"],[1.0,\"#f0f921\"]]}],\"contourcarpet\":[{\"type\":\"contourcarpet\",\"colorbar\":{\"outlinewidth\":0,\"ticks\":\"\"}}],\"contour\":[{\"type\":\"contour\",\"colorbar\":{\"outlinewidth\":0,\"ticks\":\"\"},\"colorscale\":[[0.0,\"#0d0887\"],[0.1111111111111111,\"#46039f\"],[0.2222222222222222,\"#7201a8\"],[0.3333333333333333,\"#9c179e\"],[0.4444444444444444,\"#bd3786\"],[0.5555555555555556,\"#d8576b\"],[0.6666666666666666,\"#ed7953\"],[0.7777777777777778,\"#fb9f3a\"],[0.8888888888888888,\"#fdca26\"],[1.0,\"#f0f921\"]]}],\"surface\":[{\"type\":\"surface\",\"colorbar\":{\"outlinewidth\":0,\"ticks\":\"\"},\"colorscale\":[[0.0,\"#0d0887\"],[0.1111111111111111,\"#46039f\"],[0.2222222222222222,\"#7201a8\"],[0.3333333333333333,\"#9c179e\"],[0.4444444444444444,\"#bd3786\"],[0.5555555555555556,\"#d8576b\"],[0.6666666666666666,\"#ed7953\"],[0.7777777777777778,\"#fb9f3a\"],[0.8888888888888888,\"#fdca26\"],[1.0,\"#f0f921\"]]}],\"mesh3d\":[{\"type\":\"mesh3d\",\"colorbar\":{\"outlinewidth\":0,\"ticks\":\"\"}}],\"scatter\":[{\"fillpattern\":{\"fillmode\":\"overlay\",\"size\":10,\"solidity\":0.2},\"type\":\"scatter\"}],\"parcoords\":[{\"type\":\"parcoords\",\"line\":{\"colorbar\":{\"outlinewidth\":0,\"ticks\":\"\"}}}],\"scatterpolargl\":[{\"type\":\"scatterpolargl\",\"marker\":{\"colorbar\":{\"outlinewidth\":0,\"ticks\":\"\"}}}],\"bar\":[{\"error_x\":{\"color\":\"#2a3f5f\"},\"error_y\":{\"color\":\"#2a3f5f\"},\"marker\":{\"line\":{\"color\":\"#E5ECF6\",\"width\":0.5},\"pattern\":{\"fillmode\":\"overlay\",\"size\":10,\"solidity\":0.2}},\"type\":\"bar\"}],\"scattergeo\":[{\"type\":\"scattergeo\",\"marker\":{\"colorbar\":{\"outlinewidth\":0,\"ticks\":\"\"}}}],\"scatterpolar\":[{\"type\":\"scatterpolar\",\"marker\":{\"colorbar\":{\"outlinewidth\":0,\"ticks\":\"\"}}}],\"histogram\":[{\"marker\":{\"pattern\":{\"fillmode\":\"overlay\",\"size\":10,\"solidity\":0.2}},\"type\":\"histogram\"}],\"scattergl\":[{\"type\":\"scattergl\",\"marker\":{\"colorbar\":{\"outlinewidth\":0,\"ticks\":\"\"}}}],\"scatter3d\":[{\"type\":\"scatter3d\",\"line\":{\"colorbar\":{\"outlinewidth\":0,\"ticks\":\"\"}},\"marker\":{\"colorbar\":{\"outlinewidth\":0,\"ticks\":\"\"}}}],\"scattermapbox\":[{\"type\":\"scattermapbox\",\"marker\":{\"colorbar\":{\"outlinewidth\":0,\"ticks\":\"\"}}}],\"scatterternary\":[{\"type\":\"scatterternary\",\"marker\":{\"colorbar\":{\"outlinewidth\":0,\"ticks\":\"\"}}}],\"scattercarpet\":[{\"type\":\"scattercarpet\",\"marker\":{\"colorbar\":{\"outlinewidth\":0,\"ticks\":\"\"}}}],\"carpet\":[{\"aaxis\":{\"endlinecolor\":\"#2a3f5f\",\"gridcolor\":\"white\",\"linecolor\":\"white\",\"minorgridcolor\":\"white\",\"startlinecolor\":\"#2a3f5f\"},\"baxis\":{\"endlinecolor\":\"#2a3f5f\",\"gridcolor\":\"white\",\"linecolor\":\"white\",\"minorgridcolor\":\"white\",\"startlinecolor\":\"#2a3f5f\"},\"type\":\"carpet\"}],\"table\":[{\"cells\":{\"fill\":{\"color\":\"#EBF0F8\"},\"line\":{\"color\":\"white\"}},\"header\":{\"fill\":{\"color\":\"#C8D4E3\"},\"line\":{\"color\":\"white\"}},\"type\":\"table\"}],\"barpolar\":[{\"marker\":{\"line\":{\"color\":\"#E5ECF6\",\"width\":0.5},\"pattern\":{\"fillmode\":\"overlay\",\"size\":10,\"solidity\":0.2}},\"type\":\"barpolar\"}],\"pie\":[{\"automargin\":true,\"type\":\"pie\"}]},\"layout\":{\"autotypenumbers\":\"strict\",\"colorway\":[\"#636efa\",\"#EF553B\",\"#00cc96\",\"#ab63fa\",\"#FFA15A\",\"#19d3f3\",\"#FF6692\",\"#B6E880\",\"#FF97FF\",\"#FECB52\"],\"font\":{\"color\":\"#2a3f5f\"},\"hovermode\":\"closest\",\"hoverlabel\":{\"align\":\"left\"},\"paper_bgcolor\":\"white\",\"plot_bgcolor\":\"#E5ECF6\",\"polar\":{\"bgcolor\":\"#E5ECF6\",\"angularaxis\":{\"gridcolor\":\"white\",\"linecolor\":\"white\",\"ticks\":\"\"},\"radialaxis\":{\"gridcolor\":\"white\",\"linecolor\":\"white\",\"ticks\":\"\"}},\"ternary\":{\"bgcolor\":\"#E5ECF6\",\"aaxis\":{\"gridcolor\":\"white\",\"linecolor\":\"white\",\"ticks\":\"\"},\"baxis\":{\"gridcolor\":\"white\",\"linecolor\":\"white\",\"ticks\":\"\"},\"caxis\":{\"gridcolor\":\"white\",\"linecolor\":\"white\",\"ticks\":\"\"}},\"coloraxis\":{\"colorbar\":{\"outlinewidth\":0,\"ticks\":\"\"}},\"colorscale\":{\"sequential\":[[0.0,\"#0d0887\"],[0.1111111111111111,\"#46039f\"],[0.2222222222222222,\"#7201a8\"],[0.3333333333333333,\"#9c179e\"],[0.4444444444444444,\"#bd3786\"],[0.5555555555555556,\"#d8576b\"],[0.6666666666666666,\"#ed7953\"],[0.7777777777777778,\"#fb9f3a\"],[0.8888888888888888,\"#fdca26\"],[1.0,\"#f0f921\"]],\"sequentialminus\":[[0.0,\"#0d0887\"],[0.1111111111111111,\"#46039f\"],[0.2222222222222222,\"#7201a8\"],[0.3333333333333333,\"#9c179e\"],[0.4444444444444444,\"#bd3786\"],[0.5555555555555556,\"#d8576b\"],[0.6666666666666666,\"#ed7953\"],[0.7777777777777778,\"#fb9f3a\"],[0.8888888888888888,\"#fdca26\"],[1.0,\"#f0f921\"]],\"diverging\":[[0,\"#8e0152\"],[0.1,\"#c51b7d\"],[0.2,\"#de77ae\"],[0.3,\"#f1b6da\"],[0.4,\"#fde0ef\"],[0.5,\"#f7f7f7\"],[0.6,\"#e6f5d0\"],[0.7,\"#b8e186\"],[0.8,\"#7fbc41\"],[0.9,\"#4d9221\"],[1,\"#276419\"]]},\"xaxis\":{\"gridcolor\":\"white\",\"linecolor\":\"white\",\"ticks\":\"\",\"title\":{\"standoff\":15},\"zerolinecolor\":\"white\",\"automargin\":true,\"zerolinewidth\":2},\"yaxis\":{\"gridcolor\":\"white\",\"linecolor\":\"white\",\"ticks\":\"\",\"title\":{\"standoff\":15},\"zerolinecolor\":\"white\",\"automargin\":true,\"zerolinewidth\":2},\"scene\":{\"xaxis\":{\"backgroundcolor\":\"#E5ECF6\",\"gridcolor\":\"white\",\"linecolor\":\"white\",\"showbackground\":true,\"ticks\":\"\",\"zerolinecolor\":\"white\",\"gridwidth\":2},\"yaxis\":{\"backgroundcolor\":\"#E5ECF6\",\"gridcolor\":\"white\",\"linecolor\":\"white\",\"showbackground\":true,\"ticks\":\"\",\"zerolinecolor\":\"white\",\"gridwidth\":2},\"zaxis\":{\"backgroundcolor\":\"#E5ECF6\",\"gridcolor\":\"white\",\"linecolor\":\"white\",\"showbackground\":true,\"ticks\":\"\",\"zerolinecolor\":\"white\",\"gridwidth\":2}},\"shapedefaults\":{\"line\":{\"color\":\"#2a3f5f\"}},\"annotationdefaults\":{\"arrowcolor\":\"#2a3f5f\",\"arrowhead\":0,\"arrowwidth\":1},\"geo\":{\"bgcolor\":\"white\",\"landcolor\":\"#E5ECF6\",\"subunitcolor\":\"white\",\"showland\":true,\"showlakes\":true,\"lakecolor\":\"white\"},\"title\":{\"x\":0.05},\"mapbox\":{\"style\":\"light\"}}},\"xaxis\":{\"anchor\":\"y\",\"domain\":[0.0,1.0],\"title\":{\"text\":\"annual Salary\"}},\"yaxis\":{\"anchor\":\"x\",\"domain\":[0.0,1.0],\"title\":{\"text\":\"car purchase amount\"}},\"legend\":{\"tracegroupgap\":0},\"title\":{\"text\":\"Car Purchase Amount vs Annual Salary\"}},                        {\"responsive\": true}                    ).then(function(){\n",
              "                            \n",
              "var gd = document.getElementById('cd8fe818-72eb-40c5-973b-8c2dbe5fc91a');\n",
              "var x = new MutationObserver(function (mutations, observer) {{\n",
              "        var display = window.getComputedStyle(gd).display;\n",
              "        if (!display || display === 'none') {{\n",
              "            console.log([gd, 'removed!']);\n",
              "            Plotly.purge(gd);\n",
              "            observer.disconnect();\n",
              "        }}\n",
              "}});\n",
              "\n",
              "// Listen for the removal of the full notebook cells\n",
              "var notebookContainer = gd.closest('#notebook-container');\n",
              "if (notebookContainer) {{\n",
              "    x.observe(notebookContainer, {childList: true});\n",
              "}}\n",
              "\n",
              "// Listen for the clearing of the current output cell\n",
              "var outputEl = gd.closest('.output');\n",
              "if (outputEl) {{\n",
              "    x.observe(outputEl, {childList: true});\n",
              "}}\n",
              "\n",
              "                        })                };                            </script>        </div>\n",
              "</body>\n",
              "</html>"
            ]
          },
          "metadata": {}
        }
      ]
    },
    {
      "cell_type": "markdown",
      "source": [
        "# Data Scaling"
      ],
      "metadata": {
        "id": "VJvn36k00XUk"
      }
    },
    {
      "cell_type": "code",
      "source": [
        "scaler = MinMaxScaler()\n",
        "\n",
        "X = scaler.fit_transform(X)\n",
        "y = scaler.fit_transform(y.values.reshape(-1 , 1))"
      ],
      "metadata": {
        "id": "1rHU6rnu0QCt"
      },
      "execution_count": null,
      "outputs": []
    },
    {
      "cell_type": "markdown",
      "source": [
        "# Model Building"
      ],
      "metadata": {
        "id": "9T9VeeF30cbk"
      }
    },
    {
      "cell_type": "code",
      "source": [
        "X_train , X_test , y_train , y_test = train_test_split(X, y , test_size = 0.2 , random_state = 42)"
      ],
      "metadata": {
        "id": "i4q876vF0a3M"
      },
      "execution_count": null,
      "outputs": []
    },
    {
      "cell_type": "code",
      "source": [
        "model = Sequential()\n",
        "model.add(Dense(10, activation='relu', input_dim=5))\n",
        "model.add(Dense(10, activation='relu'))\n",
        "model.add(Dense(1, activation='linear'))\n",
        "\n",
        "model.compile(optimizer='adam', loss='mean_squared_error', metrics=['mean_absolute_error'])\n",
        "model.summary()"
      ],
      "metadata": {
        "colab": {
          "base_uri": "https://localhost:8080/"
        },
        "id": "ZVMPx2sH0gDs",
        "outputId": "93c33185-23f5-4a53-9d95-8a9c49705d54"
      },
      "execution_count": null,
      "outputs": [
        {
          "output_type": "stream",
          "name": "stdout",
          "text": [
            "Model: \"sequential\"\n",
            "_________________________________________________________________\n",
            " Layer (type)                Output Shape              Param #   \n",
            "=================================================================\n",
            " dense (Dense)               (None, 10)                60        \n",
            "                                                                 \n",
            " dense_1 (Dense)             (None, 10)                110       \n",
            "                                                                 \n",
            " dense_2 (Dense)             (None, 1)                 11        \n",
            "                                                                 \n",
            "=================================================================\n",
            "Total params: 181 (724.00 Byte)\n",
            "Trainable params: 181 (724.00 Byte)\n",
            "Non-trainable params: 0 (0.00 Byte)\n",
            "_________________________________________________________________\n"
          ]
        }
      ]
    },
    {
      "cell_type": "code",
      "source": [
        "history = model.fit(X_train , y_train , epochs = 100 , validation_split= 0.2)"
      ],
      "metadata": {
        "colab": {
          "base_uri": "https://localhost:8080/"
        },
        "id": "rZ_qY-V11gXl",
        "outputId": "7d22cd93-a559-4045-c6e6-56e0190fb183"
      },
      "execution_count": null,
      "outputs": [
        {
          "output_type": "stream",
          "name": "stdout",
          "text": [
            "Epoch 1/100\n",
            "10/10 [==============================] - 1s 29ms/step - loss: 0.0614 - mean_absolute_error: 0.2159 - val_loss: 0.0326 - val_mean_absolute_error: 0.1620\n",
            "Epoch 2/100\n",
            "10/10 [==============================] - 0s 8ms/step - loss: 0.0293 - mean_absolute_error: 0.1400 - val_loss: 0.0172 - val_mean_absolute_error: 0.1008\n",
            "Epoch 3/100\n",
            "10/10 [==============================] - 0s 6ms/step - loss: 0.0193 - mean_absolute_error: 0.1089 - val_loss: 0.0168 - val_mean_absolute_error: 0.0921\n",
            "Epoch 4/100\n",
            "10/10 [==============================] - 0s 8ms/step - loss: 0.0176 - mean_absolute_error: 0.1019 - val_loss: 0.0153 - val_mean_absolute_error: 0.0896\n",
            "Epoch 5/100\n",
            "10/10 [==============================] - 0s 7ms/step - loss: 0.0153 - mean_absolute_error: 0.0961 - val_loss: 0.0125 - val_mean_absolute_error: 0.0814\n",
            "Epoch 6/100\n",
            "10/10 [==============================] - 0s 7ms/step - loss: 0.0134 - mean_absolute_error: 0.0903 - val_loss: 0.0109 - val_mean_absolute_error: 0.0760\n",
            "Epoch 7/100\n",
            "10/10 [==============================] - 0s 7ms/step - loss: 0.0122 - mean_absolute_error: 0.0862 - val_loss: 0.0098 - val_mean_absolute_error: 0.0720\n",
            "Epoch 8/100\n",
            "10/10 [==============================] - 0s 6ms/step - loss: 0.0111 - mean_absolute_error: 0.0822 - val_loss: 0.0092 - val_mean_absolute_error: 0.0693\n",
            "Epoch 9/100\n",
            "10/10 [==============================] - 0s 7ms/step - loss: 0.0102 - mean_absolute_error: 0.0786 - val_loss: 0.0086 - val_mean_absolute_error: 0.0669\n",
            "Epoch 10/100\n",
            "10/10 [==============================] - 0s 6ms/step - loss: 0.0093 - mean_absolute_error: 0.0752 - val_loss: 0.0080 - val_mean_absolute_error: 0.0645\n",
            "Epoch 11/100\n",
            "10/10 [==============================] - 0s 6ms/step - loss: 0.0087 - mean_absolute_error: 0.0724 - val_loss: 0.0074 - val_mean_absolute_error: 0.0618\n",
            "Epoch 12/100\n",
            "10/10 [==============================] - 0s 8ms/step - loss: 0.0081 - mean_absolute_error: 0.0698 - val_loss: 0.0071 - val_mean_absolute_error: 0.0601\n",
            "Epoch 13/100\n",
            "10/10 [==============================] - 0s 5ms/step - loss: 0.0074 - mean_absolute_error: 0.0670 - val_loss: 0.0067 - val_mean_absolute_error: 0.0586\n",
            "Epoch 14/100\n",
            "10/10 [==============================] - 0s 6ms/step - loss: 0.0068 - mean_absolute_error: 0.0646 - val_loss: 0.0063 - val_mean_absolute_error: 0.0579\n",
            "Epoch 15/100\n",
            "10/10 [==============================] - 0s 7ms/step - loss: 0.0062 - mean_absolute_error: 0.0619 - val_loss: 0.0060 - val_mean_absolute_error: 0.0569\n",
            "Epoch 16/100\n",
            "10/10 [==============================] - 0s 7ms/step - loss: 0.0057 - mean_absolute_error: 0.0595 - val_loss: 0.0056 - val_mean_absolute_error: 0.0556\n",
            "Epoch 17/100\n",
            "10/10 [==============================] - 0s 5ms/step - loss: 0.0053 - mean_absolute_error: 0.0570 - val_loss: 0.0053 - val_mean_absolute_error: 0.0532\n",
            "Epoch 18/100\n",
            "10/10 [==============================] - 0s 5ms/step - loss: 0.0049 - mean_absolute_error: 0.0543 - val_loss: 0.0048 - val_mean_absolute_error: 0.0512\n",
            "Epoch 19/100\n",
            "10/10 [==============================] - 0s 6ms/step - loss: 0.0045 - mean_absolute_error: 0.0521 - val_loss: 0.0044 - val_mean_absolute_error: 0.0495\n",
            "Epoch 20/100\n",
            "10/10 [==============================] - 0s 5ms/step - loss: 0.0041 - mean_absolute_error: 0.0494 - val_loss: 0.0040 - val_mean_absolute_error: 0.0468\n",
            "Epoch 21/100\n",
            "10/10 [==============================] - 0s 5ms/step - loss: 0.0038 - mean_absolute_error: 0.0470 - val_loss: 0.0036 - val_mean_absolute_error: 0.0445\n",
            "Epoch 22/100\n",
            "10/10 [==============================] - 0s 5ms/step - loss: 0.0034 - mean_absolute_error: 0.0445 - val_loss: 0.0032 - val_mean_absolute_error: 0.0424\n",
            "Epoch 23/100\n",
            "10/10 [==============================] - 0s 7ms/step - loss: 0.0032 - mean_absolute_error: 0.0428 - val_loss: 0.0028 - val_mean_absolute_error: 0.0402\n",
            "Epoch 24/100\n",
            "10/10 [==============================] - 0s 6ms/step - loss: 0.0029 - mean_absolute_error: 0.0405 - val_loss: 0.0026 - val_mean_absolute_error: 0.0383\n",
            "Epoch 25/100\n",
            "10/10 [==============================] - 0s 6ms/step - loss: 0.0026 - mean_absolute_error: 0.0389 - val_loss: 0.0023 - val_mean_absolute_error: 0.0367\n",
            "Epoch 26/100\n",
            "10/10 [==============================] - 0s 6ms/step - loss: 0.0025 - mean_absolute_error: 0.0372 - val_loss: 0.0022 - val_mean_absolute_error: 0.0354\n",
            "Epoch 27/100\n",
            "10/10 [==============================] - 0s 7ms/step - loss: 0.0023 - mean_absolute_error: 0.0358 - val_loss: 0.0020 - val_mean_absolute_error: 0.0339\n",
            "Epoch 28/100\n",
            "10/10 [==============================] - 0s 7ms/step - loss: 0.0021 - mean_absolute_error: 0.0343 - val_loss: 0.0018 - val_mean_absolute_error: 0.0324\n",
            "Epoch 29/100\n",
            "10/10 [==============================] - 0s 7ms/step - loss: 0.0020 - mean_absolute_error: 0.0329 - val_loss: 0.0017 - val_mean_absolute_error: 0.0312\n",
            "Epoch 30/100\n",
            "10/10 [==============================] - 0s 7ms/step - loss: 0.0018 - mean_absolute_error: 0.0314 - val_loss: 0.0015 - val_mean_absolute_error: 0.0301\n",
            "Epoch 31/100\n",
            "10/10 [==============================] - 0s 7ms/step - loss: 0.0017 - mean_absolute_error: 0.0303 - val_loss: 0.0014 - val_mean_absolute_error: 0.0291\n",
            "Epoch 32/100\n",
            "10/10 [==============================] - 0s 8ms/step - loss: 0.0016 - mean_absolute_error: 0.0295 - val_loss: 0.0013 - val_mean_absolute_error: 0.0281\n",
            "Epoch 33/100\n",
            "10/10 [==============================] - 0s 5ms/step - loss: 0.0015 - mean_absolute_error: 0.0285 - val_loss: 0.0012 - val_mean_absolute_error: 0.0275\n",
            "Epoch 34/100\n",
            "10/10 [==============================] - 0s 6ms/step - loss: 0.0013 - mean_absolute_error: 0.0276 - val_loss: 0.0011 - val_mean_absolute_error: 0.0258\n",
            "Epoch 35/100\n",
            "10/10 [==============================] - 0s 5ms/step - loss: 0.0012 - mean_absolute_error: 0.0260 - val_loss: 0.0010 - val_mean_absolute_error: 0.0254\n",
            "Epoch 36/100\n",
            "10/10 [==============================] - 0s 5ms/step - loss: 0.0011 - mean_absolute_error: 0.0251 - val_loss: 9.4926e-04 - val_mean_absolute_error: 0.0242\n",
            "Epoch 37/100\n",
            "10/10 [==============================] - 0s 8ms/step - loss: 0.0011 - mean_absolute_error: 0.0241 - val_loss: 8.8854e-04 - val_mean_absolute_error: 0.0236\n",
            "Epoch 38/100\n",
            "10/10 [==============================] - 0s 5ms/step - loss: 9.7607e-04 - mean_absolute_error: 0.0237 - val_loss: 8.1846e-04 - val_mean_absolute_error: 0.0227\n",
            "Epoch 39/100\n",
            "10/10 [==============================] - 0s 5ms/step - loss: 9.1103e-04 - mean_absolute_error: 0.0225 - val_loss: 7.5923e-04 - val_mean_absolute_error: 0.0220\n",
            "Epoch 40/100\n",
            "10/10 [==============================] - 0s 7ms/step - loss: 8.6671e-04 - mean_absolute_error: 0.0222 - val_loss: 6.9174e-04 - val_mean_absolute_error: 0.0212\n",
            "Epoch 41/100\n",
            "10/10 [==============================] - 0s 7ms/step - loss: 7.7985e-04 - mean_absolute_error: 0.0213 - val_loss: 6.4761e-04 - val_mean_absolute_error: 0.0205\n",
            "Epoch 42/100\n",
            "10/10 [==============================] - 0s 7ms/step - loss: 7.2445e-04 - mean_absolute_error: 0.0203 - val_loss: 6.1347e-04 - val_mean_absolute_error: 0.0200\n",
            "Epoch 43/100\n",
            "10/10 [==============================] - 0s 6ms/step - loss: 6.7156e-04 - mean_absolute_error: 0.0195 - val_loss: 5.7956e-04 - val_mean_absolute_error: 0.0195\n",
            "Epoch 44/100\n",
            "10/10 [==============================] - 0s 5ms/step - loss: 6.4275e-04 - mean_absolute_error: 0.0194 - val_loss: 5.2230e-04 - val_mean_absolute_error: 0.0186\n",
            "Epoch 45/100\n",
            "10/10 [==============================] - 0s 5ms/step - loss: 5.9581e-04 - mean_absolute_error: 0.0189 - val_loss: 5.0390e-04 - val_mean_absolute_error: 0.0183\n",
            "Epoch 46/100\n",
            "10/10 [==============================] - 0s 7ms/step - loss: 5.6388e-04 - mean_absolute_error: 0.0178 - val_loss: 4.7199e-04 - val_mean_absolute_error: 0.0176\n",
            "Epoch 47/100\n",
            "10/10 [==============================] - 0s 6ms/step - loss: 5.0977e-04 - mean_absolute_error: 0.0175 - val_loss: 4.3111e-04 - val_mean_absolute_error: 0.0169\n",
            "Epoch 48/100\n",
            "10/10 [==============================] - 0s 6ms/step - loss: 4.7498e-04 - mean_absolute_error: 0.0166 - val_loss: 4.0226e-04 - val_mean_absolute_error: 0.0164\n",
            "Epoch 49/100\n",
            "10/10 [==============================] - 0s 7ms/step - loss: 4.4428e-04 - mean_absolute_error: 0.0162 - val_loss: 3.8489e-04 - val_mean_absolute_error: 0.0160\n",
            "Epoch 50/100\n",
            "10/10 [==============================] - 0s 7ms/step - loss: 4.1845e-04 - mean_absolute_error: 0.0158 - val_loss: 3.6705e-04 - val_mean_absolute_error: 0.0157\n",
            "Epoch 51/100\n",
            "10/10 [==============================] - 0s 5ms/step - loss: 3.9303e-04 - mean_absolute_error: 0.0153 - val_loss: 3.3231e-04 - val_mean_absolute_error: 0.0150\n",
            "Epoch 52/100\n",
            "10/10 [==============================] - 0s 5ms/step - loss: 3.6905e-04 - mean_absolute_error: 0.0148 - val_loss: 3.0987e-04 - val_mean_absolute_error: 0.0146\n",
            "Epoch 53/100\n",
            "10/10 [==============================] - 0s 7ms/step - loss: 3.4491e-04 - mean_absolute_error: 0.0143 - val_loss: 2.9347e-04 - val_mean_absolute_error: 0.0142\n",
            "Epoch 54/100\n",
            "10/10 [==============================] - 0s 7ms/step - loss: 3.2647e-04 - mean_absolute_error: 0.0138 - val_loss: 2.7540e-04 - val_mean_absolute_error: 0.0137\n",
            "Epoch 55/100\n",
            "10/10 [==============================] - 0s 8ms/step - loss: 3.0706e-04 - mean_absolute_error: 0.0136 - val_loss: 2.5818e-04 - val_mean_absolute_error: 0.0133\n",
            "Epoch 56/100\n",
            "10/10 [==============================] - 0s 5ms/step - loss: 2.8691e-04 - mean_absolute_error: 0.0131 - val_loss: 2.4140e-04 - val_mean_absolute_error: 0.0129\n",
            "Epoch 57/100\n",
            "10/10 [==============================] - 0s 7ms/step - loss: 2.6814e-04 - mean_absolute_error: 0.0125 - val_loss: 2.2627e-04 - val_mean_absolute_error: 0.0125\n",
            "Epoch 58/100\n",
            "10/10 [==============================] - 0s 5ms/step - loss: 2.5628e-04 - mean_absolute_error: 0.0125 - val_loss: 2.1087e-04 - val_mean_absolute_error: 0.0121\n",
            "Epoch 59/100\n",
            "10/10 [==============================] - 0s 7ms/step - loss: 2.3683e-04 - mean_absolute_error: 0.0118 - val_loss: 1.9783e-04 - val_mean_absolute_error: 0.0117\n",
            "Epoch 60/100\n",
            "10/10 [==============================] - 0s 5ms/step - loss: 2.2643e-04 - mean_absolute_error: 0.0116 - val_loss: 1.8410e-04 - val_mean_absolute_error: 0.0113\n",
            "Epoch 61/100\n",
            "10/10 [==============================] - 0s 7ms/step - loss: 2.1382e-04 - mean_absolute_error: 0.0111 - val_loss: 1.7731e-04 - val_mean_absolute_error: 0.0110\n",
            "Epoch 62/100\n",
            "10/10 [==============================] - 0s 6ms/step - loss: 2.1455e-04 - mean_absolute_error: 0.0112 - val_loss: 1.8362e-04 - val_mean_absolute_error: 0.0112\n",
            "Epoch 63/100\n",
            "10/10 [==============================] - 0s 7ms/step - loss: 1.9026e-04 - mean_absolute_error: 0.0106 - val_loss: 1.5231e-04 - val_mean_absolute_error: 0.0103\n",
            "Epoch 64/100\n",
            "10/10 [==============================] - 0s 7ms/step - loss: 1.7733e-04 - mean_absolute_error: 0.0102 - val_loss: 1.4723e-04 - val_mean_absolute_error: 0.0101\n",
            "Epoch 65/100\n",
            "10/10 [==============================] - 0s 5ms/step - loss: 1.7051e-04 - mean_absolute_error: 0.0099 - val_loss: 1.3539e-04 - val_mean_absolute_error: 0.0098\n",
            "Epoch 66/100\n",
            "10/10 [==============================] - 0s 7ms/step - loss: 1.6541e-04 - mean_absolute_error: 0.0097 - val_loss: 1.3228e-04 - val_mean_absolute_error: 0.0096\n",
            "Epoch 67/100\n",
            "10/10 [==============================] - 0s 6ms/step - loss: 1.5497e-04 - mean_absolute_error: 0.0095 - val_loss: 1.2626e-04 - val_mean_absolute_error: 0.0093\n",
            "Epoch 68/100\n",
            "10/10 [==============================] - 0s 5ms/step - loss: 1.4502e-04 - mean_absolute_error: 0.0091 - val_loss: 1.1123e-04 - val_mean_absolute_error: 0.0089\n",
            "Epoch 69/100\n",
            "10/10 [==============================] - 0s 7ms/step - loss: 1.3837e-04 - mean_absolute_error: 0.0089 - val_loss: 1.0788e-04 - val_mean_absolute_error: 0.0086\n",
            "Epoch 70/100\n",
            "10/10 [==============================] - 0s 7ms/step - loss: 1.3046e-04 - mean_absolute_error: 0.0086 - val_loss: 9.8197e-05 - val_mean_absolute_error: 0.0084\n",
            "Epoch 71/100\n",
            "10/10 [==============================] - 0s 7ms/step - loss: 1.2351e-04 - mean_absolute_error: 0.0084 - val_loss: 9.2967e-05 - val_mean_absolute_error: 0.0081\n",
            "Epoch 72/100\n",
            "10/10 [==============================] - 0s 7ms/step - loss: 1.1807e-04 - mean_absolute_error: 0.0081 - val_loss: 8.7833e-05 - val_mean_absolute_error: 0.0079\n",
            "Epoch 73/100\n",
            "10/10 [==============================] - 0s 5ms/step - loss: 1.1360e-04 - mean_absolute_error: 0.0080 - val_loss: 8.5973e-05 - val_mean_absolute_error: 0.0078\n",
            "Epoch 74/100\n",
            "10/10 [==============================] - 0s 7ms/step - loss: 1.0803e-04 - mean_absolute_error: 0.0078 - val_loss: 7.9639e-05 - val_mean_absolute_error: 0.0075\n",
            "Epoch 75/100\n",
            "10/10 [==============================] - 0s 7ms/step - loss: 1.0324e-04 - mean_absolute_error: 0.0076 - val_loss: 8.0112e-05 - val_mean_absolute_error: 0.0074\n",
            "Epoch 76/100\n",
            "10/10 [==============================] - 0s 7ms/step - loss: 1.0699e-04 - mean_absolute_error: 0.0076 - val_loss: 7.8623e-05 - val_mean_absolute_error: 0.0074\n",
            "Epoch 77/100\n",
            "10/10 [==============================] - 0s 7ms/step - loss: 9.4168e-05 - mean_absolute_error: 0.0072 - val_loss: 6.9390e-05 - val_mean_absolute_error: 0.0069\n",
            "Epoch 78/100\n",
            "10/10 [==============================] - 0s 8ms/step - loss: 9.3167e-05 - mean_absolute_error: 0.0071 - val_loss: 7.7709e-05 - val_mean_absolute_error: 0.0072\n",
            "Epoch 79/100\n",
            "10/10 [==============================] - 0s 8ms/step - loss: 9.0851e-05 - mean_absolute_error: 0.0070 - val_loss: 6.1534e-05 - val_mean_absolute_error: 0.0065\n",
            "Epoch 80/100\n",
            "10/10 [==============================] - 0s 11ms/step - loss: 8.3412e-05 - mean_absolute_error: 0.0067 - val_loss: 5.9818e-05 - val_mean_absolute_error: 0.0064\n",
            "Epoch 81/100\n",
            "10/10 [==============================] - 0s 12ms/step - loss: 7.8527e-05 - mean_absolute_error: 0.0065 - val_loss: 5.9422e-05 - val_mean_absolute_error: 0.0064\n",
            "Epoch 82/100\n",
            "10/10 [==============================] - 0s 15ms/step - loss: 7.5327e-05 - mean_absolute_error: 0.0064 - val_loss: 5.4540e-05 - val_mean_absolute_error: 0.0061\n",
            "Epoch 83/100\n",
            "10/10 [==============================] - 0s 24ms/step - loss: 7.4570e-05 - mean_absolute_error: 0.0064 - val_loss: 5.1731e-05 - val_mean_absolute_error: 0.0060\n",
            "Epoch 84/100\n",
            "10/10 [==============================] - 0s 26ms/step - loss: 7.0701e-05 - mean_absolute_error: 0.0061 - val_loss: 5.3208e-05 - val_mean_absolute_error: 0.0060\n",
            "Epoch 85/100\n",
            "10/10 [==============================] - 0s 13ms/step - loss: 6.8487e-05 - mean_absolute_error: 0.0060 - val_loss: 4.7325e-05 - val_mean_absolute_error: 0.0057\n",
            "Epoch 86/100\n",
            "10/10 [==============================] - 0s 10ms/step - loss: 6.5063e-05 - mean_absolute_error: 0.0059 - val_loss: 4.6495e-05 - val_mean_absolute_error: 0.0056\n",
            "Epoch 87/100\n",
            "10/10 [==============================] - 0s 7ms/step - loss: 6.3241e-05 - mean_absolute_error: 0.0057 - val_loss: 4.2350e-05 - val_mean_absolute_error: 0.0053\n",
            "Epoch 88/100\n",
            "10/10 [==============================] - 0s 7ms/step - loss: 5.9735e-05 - mean_absolute_error: 0.0056 - val_loss: 4.4421e-05 - val_mean_absolute_error: 0.0055\n",
            "Epoch 89/100\n",
            "10/10 [==============================] - 0s 7ms/step - loss: 5.9014e-05 - mean_absolute_error: 0.0055 - val_loss: 4.0409e-05 - val_mean_absolute_error: 0.0052\n",
            "Epoch 90/100\n",
            "10/10 [==============================] - 0s 7ms/step - loss: 6.0007e-05 - mean_absolute_error: 0.0056 - val_loss: 3.7856e-05 - val_mean_absolute_error: 0.0050\n",
            "Epoch 91/100\n",
            "10/10 [==============================] - 0s 8ms/step - loss: 5.4076e-05 - mean_absolute_error: 0.0053 - val_loss: 3.5651e-05 - val_mean_absolute_error: 0.0048\n",
            "Epoch 92/100\n",
            "10/10 [==============================] - 0s 7ms/step - loss: 5.2140e-05 - mean_absolute_error: 0.0052 - val_loss: 3.4259e-05 - val_mean_absolute_error: 0.0047\n",
            "Epoch 93/100\n",
            "10/10 [==============================] - 0s 7ms/step - loss: 5.2761e-05 - mean_absolute_error: 0.0051 - val_loss: 3.3121e-05 - val_mean_absolute_error: 0.0046\n",
            "Epoch 94/100\n",
            "10/10 [==============================] - 0s 7ms/step - loss: 4.9642e-05 - mean_absolute_error: 0.0049 - val_loss: 3.8796e-05 - val_mean_absolute_error: 0.0051\n",
            "Epoch 95/100\n",
            "10/10 [==============================] - 0s 10ms/step - loss: 4.8375e-05 - mean_absolute_error: 0.0050 - val_loss: 3.0273e-05 - val_mean_absolute_error: 0.0044\n",
            "Epoch 96/100\n",
            "10/10 [==============================] - 0s 10ms/step - loss: 4.6048e-05 - mean_absolute_error: 0.0047 - val_loss: 2.8545e-05 - val_mean_absolute_error: 0.0043\n",
            "Epoch 97/100\n",
            "10/10 [==============================] - 0s 8ms/step - loss: 4.3878e-05 - mean_absolute_error: 0.0046 - val_loss: 2.8429e-05 - val_mean_absolute_error: 0.0043\n",
            "Epoch 98/100\n",
            "10/10 [==============================] - 0s 7ms/step - loss: 4.1807e-05 - mean_absolute_error: 0.0045 - val_loss: 2.8761e-05 - val_mean_absolute_error: 0.0044\n",
            "Epoch 99/100\n",
            "10/10 [==============================] - 0s 7ms/step - loss: 4.2297e-05 - mean_absolute_error: 0.0046 - val_loss: 2.6348e-05 - val_mean_absolute_error: 0.0041\n",
            "Epoch 100/100\n",
            "10/10 [==============================] - 0s 8ms/step - loss: 4.0223e-05 - mean_absolute_error: 0.0043 - val_loss: 2.6440e-05 - val_mean_absolute_error: 0.0042\n"
          ]
        }
      ]
    },
    {
      "cell_type": "code",
      "source": [
        "training_accuracy = history.history['mean_absolute_error']\n",
        "training_loss = history.history['loss']\n",
        "validation_accuracy = history.history['val_mean_absolute_error']\n",
        "validation_loss = history.history['val_loss']\n",
        "\n",
        "best_loss_epoch_index = np.argmin(validation_loss)\n",
        "lowest_validation_loss = validation_loss[best_loss_epoch_index]\n",
        "\n",
        "best_accuracy_epoch_index = np.argmin(validation_accuracy)\n",
        "highest_validation_accuracy = validation_accuracy[best_accuracy_epoch_index]\n",
        "\n",
        "epochs = [i+1 for i in range(len(training_accuracy))]\n",
        "\n",
        "loss_label = f'Best Loss Epoch = {str(best_loss_epoch_index + 1)}'\n",
        "accuracy_label = f'Best Accuracy Epoch = {str(best_accuracy_epoch_index + 1)}'\n"
      ],
      "metadata": {
        "id": "NNk2MHjD1yzV"
      },
      "execution_count": null,
      "outputs": []
    },
    {
      "cell_type": "code",
      "source": [
        "fig, axes = plt.subplots(figsize=(20, 8))\n",
        "\n",
        "# Subplot 1: Training and Validation Loss\n",
        "ax1 = plt.subplot(1, 2, 1)\n",
        "plt.plot(epochs, training_loss, color='#FF5733', label='Training Loss', linewidth=2)\n",
        "plt.plot(epochs, validation_loss, color='#33FF57', label='Validation Loss', linewidth=2)\n",
        "plt.scatter(best_loss_epoch_index + 1, lowest_validation_loss, s=150, c='#337DFF', marker='o', label=loss_label)\n",
        "plt.title('Training and Validation Loss', fontsize=16)\n",
        "plt.xlabel('Epochs', fontsize=14)\n",
        "plt.ylabel('Loss', fontsize=14)\n",
        "plt.legend(fontsize=12)\n",
        "\n",
        "# Subplot 2: Training and Validation Accuracy\n",
        "ax2 = plt.subplot(1, 2, 2)\n",
        "plt.plot(epochs, training_accuracy, color='#FF5733', label='Training Accuracy', linewidth=2)\n",
        "plt.plot(epochs, validation_accuracy, color='#33FF57', label='Validation Accuracy', linewidth=2)\n",
        "plt.scatter(best_accuracy_epoch_index + 1, highest_validation_accuracy, s=150, c='#337DFF', marker='o', label=accuracy_label)\n",
        "plt.title('Training and Validation Accuracy', fontsize=16)\n",
        "plt.xlabel('Epochs', fontsize=14)\n",
        "plt.ylabel('Accuracy', fontsize=14)\n",
        "plt.legend(fontsize=12)\n",
        "\n",
        "plt.tight_layout()\n",
        "plt.show()"
      ],
      "metadata": {
        "colab": {
          "base_uri": "https://localhost:8080/",
          "height": 555
        },
        "id": "R0lt7wd03Pp3",
        "outputId": "59c24102-04f1-42b7-db9d-cb8421b38331"
      },
      "execution_count": null,
      "outputs": [
        {
          "output_type": "display_data",
          "data": {
            "text/plain": [
              "<Figure size 2000x800 with 2 Axes>"
            ],
            "image/png": "[encoded data removed]"
          },
          "metadata": {}
        }
      ]
    },
    {
      "cell_type": "code",
      "source": [
        "y_pred = model.predict(X_test)"
      ],
      "metadata": {
        "colab": {
          "base_uri": "https://localhost:8080/"
        },
        "id": "pn9p3_FV3gLF",
        "outputId": "2e3d732c-f705-4d23-fc2b-b8bc54b62f34"
      },
      "execution_count": null,
      "outputs": [
        {
          "output_type": "stream",
          "name": "stdout",
          "text": [
            "4/4 [==============================] - 0s 3ms/step\n"
          ]
        }
      ]
    },
    {
      "cell_type": "code",
      "source": [
        "from sklearn.metrics import r2_score\n",
        "\n",
        "score = r2_score(y_test , y_pred)\n",
        "print(f'R2 Score = {score}')"
      ],
      "metadata": {
        "colab": {
          "base_uri": "https://localhost:8080/"
        },
        "id": "IAdJ20Vx3hj9",
        "outputId": "9d44af5c-8830-4feb-ca48-dcdf610211a4"
      },
      "execution_count": null,
      "outputs": [
        {
          "output_type": "stream",
          "name": "stdout",
          "text": [
            "R2 Score = 0.998640545447279\n"
          ]
        }
      ]
    },
    {
      "cell_type": "markdown",
      "source": [
        "# Conclusion:\n",
        "\n",
        "## 1. The dataset provided has no null values, and there is no need for feature extraction or extensive data preprocessing steps.\n",
        "## 2. The data has been scaled using Min-Max Scaling.\n",
        "## 3. With features such as gender, age, annual salary, credit card debt, and net worth, the artificial neural network achieved a very high accuracy in predicting car sales prices, with a final R2 score of approximately 0.998.\n",
        "## 4. This score indicates that the model performed exceptionally well in predicting car sales prices on the test data"
      ],
      "metadata": {
        "id": "kCM9i17R33QO"
      }
    }
  ]
}